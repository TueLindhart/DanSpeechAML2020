{
 "cells": [
  {
   "cell_type": "code",
   "execution_count": 20,
   "metadata": {},
   "outputs": [],
   "source": [
    "import pandas as pd\n",
    "import numpy as np\n",
    "import os"
   ]
  },
  {
   "cell_type": "code",
   "execution_count": 21,
   "metadata": {},
   "outputs": [
    {
     "data": {
      "text/plain": [
       "'/home/user/DanSpeech-AdvancedMachineLearning/AML Cleaned'"
      ]
     },
     "execution_count": 21,
     "metadata": {},
     "output_type": "execute_result"
    }
   ],
   "source": [
    "os.getcwd()"
   ]
  },
  {
   "cell_type": "markdown",
   "metadata": {},
   "source": [
    "# Ablation Search on clean dataset"
   ]
  },
  {
   "cell_type": "markdown",
   "metadata": {},
   "source": [
    "## Forward feature selection"
   ]
  },
  {
   "cell_type": "code",
   "execution_count": 63,
   "metadata": {},
   "outputs": [],
   "source": [
    "path = os.path.join(os.getcwd(),\"Scores\",\n",
    "                    #\"Older score csv files\",\n",
    "                    \"allScoresTest_old2.csv\")\n",
    "\n",
    "df_test = pd.read_csv(path,sep=\";\")\n"
   ]
  },
  {
   "cell_type": "code",
   "execution_count": 64,
   "metadata": {},
   "outputs": [
    {
     "data": {
      "text/html": [
       "<div>\n",
       "<style scoped>\n",
       "    .dataframe tbody tr th:only-of-type {\n",
       "        vertical-align: middle;\n",
       "    }\n",
       "\n",
       "    .dataframe tbody tr th {\n",
       "        vertical-align: top;\n",
       "    }\n",
       "\n",
       "    .dataframe thead th {\n",
       "        text-align: right;\n",
       "    }\n",
       "</style>\n",
       "<table border=\"1\" class=\"dataframe\">\n",
       "  <thead>\n",
       "    <tr style=\"text-align: right;\">\n",
       "      <th></th>\n",
       "      <th>Decoder_type</th>\n",
       "      <th>LM_type</th>\n",
       "      <th>model_ID</th>\n",
       "      <th>Reference</th>\n",
       "      <th>WER</th>\n",
       "      <th>CER</th>\n",
       "      <th>Transcript</th>\n",
       "    </tr>\n",
       "  </thead>\n",
       "  <tbody>\n",
       "    <tr>\n",
       "      <th>0</th>\n",
       "      <td>greedy</td>\n",
       "      <td>None</td>\n",
       "      <td>DanSpeechPrimary.pth</td>\n",
       "      <td>derfor vil vi ikke gå i gang med nye store for...</td>\n",
       "      <td>0.086957</td>\n",
       "      <td>0.029126</td>\n",
       "      <td>derfor vil vi ikke gå i gang medde nye store f...</td>\n",
       "    </tr>\n",
       "    <tr>\n",
       "      <th>1</th>\n",
       "      <td>greedy</td>\n",
       "      <td>None</td>\n",
       "      <td>DanSpeechPrimary.pth</td>\n",
       "      <td>vi er efterhånden vant til at vi hurtigst muli...</td>\n",
       "      <td>0.214286</td>\n",
       "      <td>0.048193</td>\n",
       "      <td>vi her efterhånden vant til at vi hurtigst mul...</td>\n",
       "    </tr>\n",
       "    <tr>\n",
       "      <th>2</th>\n",
       "      <td>greedy</td>\n",
       "      <td>None</td>\n",
       "      <td>DanSpeechPrimary.pth</td>\n",
       "      <td>men det kræver at du bruger os det var meget b...</td>\n",
       "      <td>0.142857</td>\n",
       "      <td>0.042254</td>\n",
       "      <td>men det kræver at du brur os det var meget bet...</td>\n",
       "    </tr>\n",
       "    <tr>\n",
       "      <th>3</th>\n",
       "      <td>greedy</td>\n",
       "      <td>None</td>\n",
       "      <td>DanSpeechPrimary.pth</td>\n",
       "      <td>det er der kommet et højst usædvanligt værk ud af</td>\n",
       "      <td>0.400000</td>\n",
       "      <td>0.081633</td>\n",
       "      <td>det er der kommet et højst usendbanligt verk udaf</td>\n",
       "    </tr>\n",
       "    <tr>\n",
       "      <th>4</th>\n",
       "      <td>greedy</td>\n",
       "      <td>None</td>\n",
       "      <td>DanSpeechPrimary.pth</td>\n",
       "      <td>indsæt tekst fra udklipsholder i det markerede...</td>\n",
       "      <td>0.250000</td>\n",
       "      <td>0.078431</td>\n",
       "      <td>indsat tekst fra udkriftholder i det markerede...</td>\n",
       "    </tr>\n",
       "    <tr>\n",
       "      <th>...</th>\n",
       "      <td>...</td>\n",
       "      <td>...</td>\n",
       "      <td>...</td>\n",
       "      <td>...</td>\n",
       "      <td>...</td>\n",
       "      <td>...</td>\n",
       "      <td>...</td>\n",
       "    </tr>\n",
       "    <tr>\n",
       "      <th>457</th>\n",
       "      <td>beam</td>\n",
       "      <td>dsl_5gram.klm</td>\n",
       "      <td>noisy_all_augs.pth</td>\n",
       "      <td>det er der kommet et højst usædvanligt værk ud af</td>\n",
       "      <td>0.400000</td>\n",
       "      <td>0.163265</td>\n",
       "      <td>det er der kommet et højst uendeligt derudaf</td>\n",
       "    </tr>\n",
       "    <tr>\n",
       "      <th>458</th>\n",
       "      <td>beam</td>\n",
       "      <td>dsl_5gram.klm</td>\n",
       "      <td>noisy_all_augs.pth</td>\n",
       "      <td>indsæt tekst fra udklipsholder i det markerede...</td>\n",
       "      <td>0.250000</td>\n",
       "      <td>0.156863</td>\n",
       "      <td>indsat tekst fra udkastede i det markerede felt</td>\n",
       "    </tr>\n",
       "    <tr>\n",
       "      <th>459</th>\n",
       "      <td>beam</td>\n",
       "      <td>dsl_5gram.klm</td>\n",
       "      <td>noisy_all_augs.pth</td>\n",
       "      <td>vælg annullér alle job i køen</td>\n",
       "      <td>0.500000</td>\n",
       "      <td>0.379310</td>\n",
       "      <td>valgtaler job i køen</td>\n",
       "    </tr>\n",
       "    <tr>\n",
       "      <th>460</th>\n",
       "      <td>beam</td>\n",
       "      <td>dsl_5gram.klm</td>\n",
       "      <td>noisy_all_augs.pth</td>\n",
       "      <td>som seer havde jeg det storartet</td>\n",
       "      <td>0.666667</td>\n",
       "      <td>0.156250</td>\n",
       "      <td>som seere havde det store artet</td>\n",
       "    </tr>\n",
       "    <tr>\n",
       "      <th>461</th>\n",
       "      <td>beam</td>\n",
       "      <td>dsl_5gram.klm</td>\n",
       "      <td>noisy_all_augs.pth</td>\n",
       "      <td>der er da et stykke tid endnu</td>\n",
       "      <td>0.285714</td>\n",
       "      <td>0.103448</td>\n",
       "      <td>det er der et stykke tid endnu</td>\n",
       "    </tr>\n",
       "  </tbody>\n",
       "</table>\n",
       "<p>462 rows × 7 columns</p>\n",
       "</div>"
      ],
      "text/plain": [
       "    Decoder_type        LM_type              model_ID  \\\n",
       "0         greedy           None  DanSpeechPrimary.pth   \n",
       "1         greedy           None  DanSpeechPrimary.pth   \n",
       "2         greedy           None  DanSpeechPrimary.pth   \n",
       "3         greedy           None  DanSpeechPrimary.pth   \n",
       "4         greedy           None  DanSpeechPrimary.pth   \n",
       "..           ...            ...                   ...   \n",
       "457         beam  dsl_5gram.klm    noisy_all_augs.pth   \n",
       "458         beam  dsl_5gram.klm    noisy_all_augs.pth   \n",
       "459         beam  dsl_5gram.klm    noisy_all_augs.pth   \n",
       "460         beam  dsl_5gram.klm    noisy_all_augs.pth   \n",
       "461         beam  dsl_5gram.klm    noisy_all_augs.pth   \n",
       "\n",
       "                                             Reference       WER       CER  \\\n",
       "0    derfor vil vi ikke gå i gang med nye store for...  0.086957  0.029126   \n",
       "1    vi er efterhånden vant til at vi hurtigst muli...  0.214286  0.048193   \n",
       "2    men det kræver at du bruger os det var meget b...  0.142857  0.042254   \n",
       "3    det er der kommet et højst usædvanligt værk ud af  0.400000  0.081633   \n",
       "4    indsæt tekst fra udklipsholder i det markerede...  0.250000  0.078431   \n",
       "..                                                 ...       ...       ...   \n",
       "457  det er der kommet et højst usædvanligt værk ud af  0.400000  0.163265   \n",
       "458  indsæt tekst fra udklipsholder i det markerede...  0.250000  0.156863   \n",
       "459                      vælg annullér alle job i køen  0.500000  0.379310   \n",
       "460                   som seer havde jeg det storartet  0.666667  0.156250   \n",
       "461                      der er da et stykke tid endnu  0.285714  0.103448   \n",
       "\n",
       "                                            Transcript  \n",
       "0    derfor vil vi ikke gå i gang medde nye store f...  \n",
       "1    vi her efterhånden vant til at vi hurtigst mul...  \n",
       "2    men det kræver at du brur os det var meget bet...  \n",
       "3    det er der kommet et højst usendbanligt verk udaf  \n",
       "4    indsat tekst fra udkriftholder i det markerede...  \n",
       "..                                                 ...  \n",
       "457       det er der kommet et højst uendeligt derudaf  \n",
       "458    indsat tekst fra udkastede i det markerede felt  \n",
       "459                               valgtaler job i køen  \n",
       "460                    som seere havde det store artet  \n",
       "461                     det er der et stykke tid endnu  \n",
       "\n",
       "[462 rows x 7 columns]"
      ]
     },
     "execution_count": 64,
     "metadata": {},
     "output_type": "execute_result"
    }
   ],
   "source": [
    "df_test"
   ]
  },
  {
   "cell_type": "code",
   "execution_count": 69,
   "metadata": {},
   "outputs": [],
   "source": [
    "Data_type = [\"Tue_Noise_test_split\",\"Tue_test_split\"]*231\n",
    "\n",
    "df_test[\"Data_type\"] = Data_type\n",
    "\n"
   ]
  },
  {
   "cell_type": "code",
   "execution_count": 78,
   "metadata": {},
   "outputs": [],
   "source": [
    "#substitute LM_type with Data_type when new transcript is ready\n",
    "\n",
    "df_testmeans = df_test.groupby(['Decoder_type','LM_type','model_ID','Data_type']).mean()[[\"WER\",\"CER\"]].unstack()\n",
    "df_testmeans = df_testmeans[\"WER\"].loc[\"greedy\"].loc[\"None\"]\n"
   ]
  },
  {
   "cell_type": "code",
   "execution_count": 86,
   "metadata": {},
   "outputs": [
    {
     "data": {
      "text/html": [
       "<div>\n",
       "<style scoped>\n",
       "    .dataframe tbody tr th:only-of-type {\n",
       "        vertical-align: middle;\n",
       "    }\n",
       "\n",
       "    .dataframe tbody tr th {\n",
       "        vertical-align: top;\n",
       "    }\n",
       "\n",
       "    .dataframe thead th {\n",
       "        text-align: right;\n",
       "    }\n",
       "</style>\n",
       "<table border=\"1\" class=\"dataframe\">\n",
       "  <thead>\n",
       "    <tr style=\"text-align: right;\">\n",
       "      <th>Data_type</th>\n",
       "      <th>Tue_Noise_test_split</th>\n",
       "      <th>Tue_test_split</th>\n",
       "    </tr>\n",
       "    <tr>\n",
       "      <th>model_ID</th>\n",
       "      <th></th>\n",
       "      <th></th>\n",
       "    </tr>\n",
       "  </thead>\n",
       "  <tbody>\n",
       "    <tr>\n",
       "      <th>DanSpeechPrimary.pth</th>\n",
       "      <td>0.530077</td>\n",
       "      <td>0.490020</td>\n",
       "    </tr>\n",
       "    <tr>\n",
       "      <th>clean_all_augs.pth</th>\n",
       "      <td>0.581113</td>\n",
       "      <td>0.490813</td>\n",
       "    </tr>\n",
       "    <tr>\n",
       "      <th>clean_no_augs.pth</th>\n",
       "      <td>0.437229</td>\n",
       "      <td>0.554579</td>\n",
       "    </tr>\n",
       "    <tr>\n",
       "      <th>noisy_all_augs.pth</th>\n",
       "      <td>0.532221</td>\n",
       "      <td>0.534782</td>\n",
       "    </tr>\n",
       "    <tr>\n",
       "      <th>noisy_no_augs.pth</th>\n",
       "      <td>0.419708</td>\n",
       "      <td>0.510990</td>\n",
       "    </tr>\n",
       "  </tbody>\n",
       "</table>\n",
       "</div>"
      ],
      "text/plain": [
       "Data_type             Tue_Noise_test_split  Tue_test_split\n",
       "model_ID                                                  \n",
       "DanSpeechPrimary.pth              0.530077        0.490020\n",
       "clean_all_augs.pth                0.581113        0.490813\n",
       "clean_no_augs.pth                 0.437229        0.554579\n",
       "noisy_all_augs.pth                0.532221        0.534782\n",
       "noisy_no_augs.pth                 0.419708        0.510990"
      ]
     },
     "execution_count": 86,
     "metadata": {},
     "output_type": "execute_result"
    }
   ],
   "source": [
    "df_testmeans\n"
   ]
  },
  {
   "cell_type": "code",
   "execution_count": 96,
   "metadata": {
    "scrolled": true
   },
   "outputs": [
    {
     "data": {
      "image/png": "[encoded data removed]",
      "text/plain": [
       "<Figure size 432x288 with 1 Axes>"
      ]
     },
     "metadata": {
      "needs_background": "light"
     },
     "output_type": "display_data"
    }
   ],
   "source": [
    "import matplotlib.pyplot as plt\n",
    "\n",
    "xticks = [\"DanSpeech\",\"Clean all augs\",\"Clean no augs\",\"noisy all augs\",\"noisy no augs\"]\n",
    "\n",
    "plt.title(\"Baseline (clean data)\",fontsize=16)\n",
    "plt.bar(xticks,df_testmeans.Tue_test_split,color=\"green\")\n",
    "plt.hlines(0.530077,-1,8,linestyles=\"dashed\",label=\"Baseline performance\")\n",
    "plt.legend()\n",
    "plt.xticks(rotation=45)\n",
    "plt.ylabel(\"WER\",fontsize=12)\n",
    "plt.xticks(rotation=45,fontsize=11)\n",
    "#plt.ylim(0.20,0.35)\n",
    "plt.xlim(-.5,4.5)\n",
    "\n",
    "plt.show()\n"
   ]
  },
  {
   "cell_type": "code",
   "execution_count": 97,
   "metadata": {},
   "outputs": [
    {
     "data": {
      "image/png": "[encoded data removed]",
      "text/plain": [
       "<Figure size 432x288 with 1 Axes>"
      ]
     },
     "metadata": {
      "needs_background": "light"
     },
     "output_type": "display_data"
    }
   ],
   "source": [
    "import matplotlib.pyplot as plt\n",
    "\n",
    "xticks = [\"DanSpeech\",\"Clean all augs\",\"Clean no augs\",\"noisy all augs\",\"noisy no augs\"]\n",
    "\n",
    "plt.title(\"Baseline comparison (noisy data)\",fontsize=16)\n",
    "plt.bar(xticks,df_testmeans.Tue_Noise_test_split,color=\"green\")\n",
    "plt.hlines(0.530077,-1,8,linestyles=\"dashed\",label=\"Baseline performance\")\n",
    "plt.legend()\n",
    "plt.xticks(rotation=45)\n",
    "plt.ylabel(\"WER\",fontsize=12)\n",
    "plt.xticks(rotation=45,fontsize=11)\n",
    "#plt.ylim(0.20,0.35)\n",
    "plt.xlim(-.5,4.5)\n",
    "\n",
    "plt.show()"
   ]
  },
  {
   "cell_type": "markdown",
   "metadata": {},
   "source": [
    "# Confidence intervals for greedy on clean and noisy"
   ]
  },
  {
   "cell_type": "code",
   "execution_count": 135,
   "metadata": {},
   "outputs": [],
   "source": [
    "df_CI = df_test[df_test.Decoder_type == \"greedy\"]\n",
    "\n",
    "df_CI_clean = df_CI[df_CI.Data_type == \"Tue_test_split\"]\n",
    "\n",
    "df_CI_noisy = df_CI[df_CI.Data_type == \"Tue_Noise_test_split\"]"
   ]
  },
  {
   "cell_type": "markdown",
   "metadata": {},
   "source": [
    "## CI for clean data"
   ]
  },
  {
   "cell_type": "code",
   "execution_count": 136,
   "metadata": {},
   "outputs": [],
   "source": [
    "models = df_test.model_ID.unique()\n",
    "\n",
    "for i,m in enumerate(models):\n",
    "    if i == 0:\n",
    "        temp = df_CI_clean[df_CI_clean.model_ID.isin([m])][[\"Reference\",\"WER\"]]\n",
    "        temp = temp.rename(columns={\"WER\":f'{m}'})\n",
    "        temp = temp.set_index(\"Reference\")\n",
    "        \n",
    "        clean_ref_df = temp.copy()\n",
    "        \n",
    "    else:\n",
    "        temp = df_CI_clean[df_CI_clean.model_ID.isin([m])][[\"Reference\",\"WER\"]]\n",
    "        temp = temp.rename(columns={\"WER\":f'{m}'}) \n",
    "        temp = temp.set_index(\"Reference\")\n",
    "        \n",
    "        clean_ref_df = clean_ref_df.join(temp,on=[\"Reference\"])"
   ]
  },
  {
   "cell_type": "code",
   "execution_count": 130,
   "metadata": {},
   "outputs": [],
   "source": [
    "m_for_clean = clean_ref_df.mean()\n",
    "s_for_clean = clean_ref_df.std()\n",
    "n_for_clean = len(clean_ref_df)"
   ]
  },
  {
   "cell_type": "code",
   "execution_count": 131,
   "metadata": {
    "scrolled": true
   },
   "outputs": [
    {
     "data": {
      "text/plain": [
       "DanSpeechPrimary.pth    0.490020\n",
       "clean_no_augs.pth            NaN\n",
       "clean_all_augs.pth      0.490813\n",
       "noisy_no_augs.pth            NaN\n",
       "noisy_all_augs.pth      0.473832\n",
       "dtype: float64"
      ]
     },
     "execution_count": 131,
     "metadata": {},
     "output_type": "execute_result"
    }
   ],
   "source": [
    "m_for_clean"
   ]
  },
  {
   "cell_type": "code",
   "execution_count": 143,
   "metadata": {},
   "outputs": [
    {
     "name": "stdout",
     "output_type": "stream",
     "text": [
      "DanSpeechPrimary.pth: (0.3597772355879806) - (0.6202630697031607)\n",
      "clean_no_augs.pth: (nan) - (nan)\n",
      "clean_all_augs.pth: (0.37331969451411406) - (0.6083064830986855)\n",
      "noisy_no_augs.pth: (nan) - (nan)\n",
      "noisy_all_augs.pth: (0.3845670741368221) - (0.5630979141636179)\n"
     ]
    },
    {
     "data": {
      "text/plain": [
       "[None, None, None, None, None]"
      ]
     },
     "execution_count": 143,
     "metadata": {},
     "output_type": "execute_result"
    }
   ],
   "source": [
    "from scipy.stats import  t\n",
    "confidence=0.10\n",
    "\n",
    "h = t.ppf(1-(confidence/2), n_for_clean - 1) * (s_for_clean/(np.sqrt(n_for_clean)))\n",
    "\n",
    "start = m_for_clean - h\n",
    "end = m_for_clean + h\n",
    "\n",
    "CIs_forwards = list(zip(models,start,end))\n",
    "\n",
    "[print(f'{a}: ({b}) - ({c})') for a,b,c in CIs_forwards]"
   ]
  },
  {
   "cell_type": "markdown",
   "metadata": {},
   "source": [
    "## CI for clean data"
   ]
  },
  {
   "cell_type": "code",
   "execution_count": 138,
   "metadata": {},
   "outputs": [],
   "source": [
    "models = df_test.model_ID.unique()\n",
    "\n",
    "for i,m in enumerate(models):\n",
    "    if i == 0:\n",
    "        temp = df_CI_noisy[df_CI_noisy.model_ID.isin([m])][[\"Reference\",\"WER\"]]\n",
    "        temp = temp.rename(columns={\"WER\":f'{m}'})\n",
    "        temp = temp.set_index(\"Reference\")\n",
    "        \n",
    "        noisy_ref_df = temp.copy()\n",
    "        \n",
    "    else:\n",
    "        temp = df_CI_noisy[df_CI_noisy.model_ID.isin([m])][[\"Reference\",\"WER\"]]\n",
    "        temp = temp.rename(columns={\"WER\":f'{m}'}) \n",
    "        temp = temp.set_index(\"Reference\")\n",
    "        \n",
    "        noisy_ref_df = noisy_ref_df.join(temp,on=[\"Reference\"])"
   ]
  },
  {
   "cell_type": "code",
   "execution_count": 139,
   "metadata": {},
   "outputs": [],
   "source": [
    "m_for_noisy = noisy_ref_df.mean()\n",
    "s_for_noisy = noisy_ref_df.std()\n",
    "n_for_noisy = len(noisy_ref_df)"
   ]
  },
  {
   "cell_type": "code",
   "execution_count": 140,
   "metadata": {},
   "outputs": [
    {
     "data": {
      "text/plain": [
       "DanSpeechPrimary.pth    0.530077\n",
       "clean_no_augs.pth            NaN\n",
       "clean_all_augs.pth      0.581113\n",
       "noisy_no_augs.pth            NaN\n",
       "noisy_all_augs.pth      0.534375\n",
       "dtype: float64"
      ]
     },
     "execution_count": 140,
     "metadata": {},
     "output_type": "execute_result"
    }
   ],
   "source": [
    "m_for_noisy"
   ]
  },
  {
   "cell_type": "code",
   "execution_count": 142,
   "metadata": {},
   "outputs": [
    {
     "name": "stdout",
     "output_type": "stream",
     "text": [
      "DanSpeechPrimary.pth: (0.3654238084294679) - (0.6947309781228341)\n",
      "clean_no_augs.pth: (nan) - (nan)\n",
      "clean_all_augs.pth: (0.43545825918455205) - (0.7267674136932948)\n",
      "noisy_no_augs.pth: (nan) - (nan)\n",
      "noisy_all_augs.pth: (0.4022404448056337) - (0.6665104178582723)\n"
     ]
    },
    {
     "data": {
      "text/plain": [
       "[None, None, None, None, None]"
      ]
     },
     "execution_count": 142,
     "metadata": {},
     "output_type": "execute_result"
    }
   ],
   "source": [
    "from scipy.stats import  t\n",
    "confidence=0.10\n",
    "\n",
    "h = t.ppf(1-(confidence/2), n_for_noisy - 1) * (s_for_noisy/(np.sqrt(n_for_noisy)))\n",
    "\n",
    "start = m_for_noisy - h\n",
    "end = m_for_noisy + h\n",
    "\n",
    "CIs_forwards = list(zip(models,start,end))\n",
    "\n",
    "[print(f'{a}: ({b}) - ({c})') for a,b,c in CIs_forwards]"
   ]
  },
  {
   "cell_type": "code",
   "execution_count": null,
   "metadata": {},
   "outputs": [],
   "source": []
  }
 ],
 "metadata": {
  "kernelspec": {
   "display_name": "Python 3",
   "language": "python",
   "name": "python3"
  },
  "language_info": {
   "codemirror_mode": {
    "name": "ipython",
    "version": 3
   },
   "file_extension": ".py",
   "mimetype": "text/x-python",
   "name": "python",
   "nbconvert_exporter": "python",
   "pygments_lexer": "ipython3",
   "version": "3.8.1"
  }
 },
 "nbformat": 4,
 "nbformat_minor": 4
}
