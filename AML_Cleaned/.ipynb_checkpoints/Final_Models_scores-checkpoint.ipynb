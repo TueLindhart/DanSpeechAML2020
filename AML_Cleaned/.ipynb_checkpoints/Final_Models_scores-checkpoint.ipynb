{
 "cells": [
  {
   "cell_type": "code",
   "execution_count": 1,
   "metadata": {},
   "outputs": [],
   "source": [
    "import pandas as pd\n",
    "import numpy as np\n",
    "import os"
   ]
  },
  {
   "cell_type": "code",
   "execution_count": 2,
   "metadata": {},
   "outputs": [
    {
     "data": {
      "text/plain": [
       "'/home/user/DanSpeech-AdvancedMachineLearning/AML Cleaned'"
      ]
     },
     "execution_count": 2,
     "metadata": {},
     "output_type": "execute_result"
    }
   ],
   "source": [
    "os.getcwd()"
   ]
  },
  {
   "cell_type": "markdown",
   "metadata": {},
   "source": [
    "# Ablation Search on clean dataset"
   ]
  },
  {
   "cell_type": "markdown",
   "metadata": {},
   "source": [
    "## Forward feature selection"
   ]
  },
  {
   "cell_type": "code",
   "execution_count": 3,
   "metadata": {},
   "outputs": [],
   "source": [
    "path = os.path.join(os.getcwd(),\"Scores\",\n",
    "                    #\"Older score csv files\",\n",
    "                    \"Baseline_Test_scores.csv\")\n",
    "\n",
    "df_test = pd.read_csv(path,sep=\";\")\n"
   ]
  },
  {
   "cell_type": "code",
   "execution_count": 4,
   "metadata": {},
   "outputs": [
    {
     "data": {
      "text/html": [
       "<div>\n",
       "<style scoped>\n",
       "    .dataframe tbody tr th:only-of-type {\n",
       "        vertical-align: middle;\n",
       "    }\n",
       "\n",
       "    .dataframe tbody tr th {\n",
       "        vertical-align: top;\n",
       "    }\n",
       "\n",
       "    .dataframe thead th {\n",
       "        text-align: right;\n",
       "    }\n",
       "</style>\n",
       "<table border=\"1\" class=\"dataframe\">\n",
       "  <thead>\n",
       "    <tr style=\"text-align: right;\">\n",
       "      <th></th>\n",
       "      <th>Data_type</th>\n",
       "      <th>Decoder_type</th>\n",
       "      <th>LM_type</th>\n",
       "      <th>model_ID</th>\n",
       "      <th>Reference</th>\n",
       "      <th>WER</th>\n",
       "      <th>CER</th>\n",
       "      <th>Transcript</th>\n",
       "    </tr>\n",
       "  </thead>\n",
       "  <tbody>\n",
       "    <tr>\n",
       "      <th>0</th>\n",
       "      <td>Tue_test_split</td>\n",
       "      <td>greedy</td>\n",
       "      <td>None</td>\n",
       "      <td>DanSpeechPrimary.pth</td>\n",
       "      <td>videre skal politiet have yderligere beføjelse...</td>\n",
       "      <td>0.266667</td>\n",
       "      <td>0.022901</td>\n",
       "      <td>videre skal politiet have ydeligere bepøjelser...</td>\n",
       "    </tr>\n",
       "    <tr>\n",
       "      <th>1</th>\n",
       "      <td>Tue_test_split</td>\n",
       "      <td>greedy</td>\n",
       "      <td>None</td>\n",
       "      <td>DanSpeechPrimary.pth</td>\n",
       "      <td>det er selvfølgelig ærgerligt at spændingen he...</td>\n",
       "      <td>0.454545</td>\n",
       "      <td>0.094891</td>\n",
       "      <td>det er selvfølgelig ærgerligt at spændingen ha...</td>\n",
       "    </tr>\n",
       "    <tr>\n",
       "      <th>2</th>\n",
       "      <td>Tue_test_split</td>\n",
       "      <td>greedy</td>\n",
       "      <td>None</td>\n",
       "      <td>DanSpeechPrimary.pth</td>\n",
       "      <td>først når den polare vinternat aftager og soll...</td>\n",
       "      <td>0.400000</td>\n",
       "      <td>0.071429</td>\n",
       "      <td>gørs når den polare vinternet aftager og solly...</td>\n",
       "    </tr>\n",
       "    <tr>\n",
       "      <th>3</th>\n",
       "      <td>Tue_test_split</td>\n",
       "      <td>greedy</td>\n",
       "      <td>None</td>\n",
       "      <td>DanSpeechPrimary.pth</td>\n",
       "      <td>hans mål er at skabe landets største ejendomss...</td>\n",
       "      <td>0.166667</td>\n",
       "      <td>0.045045</td>\n",
       "      <td>hans måd er at skabe landets største ejendomss...</td>\n",
       "    </tr>\n",
       "    <tr>\n",
       "      <th>4</th>\n",
       "      <td>Tue_test_split</td>\n",
       "      <td>greedy</td>\n",
       "      <td>None</td>\n",
       "      <td>DanSpeechPrimary.pth</td>\n",
       "      <td>baggrunden er at museumsbestyrelsen i den udbu...</td>\n",
       "      <td>0.312500</td>\n",
       "      <td>0.093458</td>\n",
       "      <td>faggødden er at musemumsbestyrelsen i den udbu...</td>\n",
       "    </tr>\n",
       "    <tr>\n",
       "      <th>...</th>\n",
       "      <td>...</td>\n",
       "      <td>...</td>\n",
       "      <td>...</td>\n",
       "      <td>...</td>\n",
       "      <td>...</td>\n",
       "      <td>...</td>\n",
       "      <td>...</td>\n",
       "      <td>...</td>\n",
       "    </tr>\n",
       "    <tr>\n",
       "      <th>1600</th>\n",
       "      <td>Tue_Noise_test_split</td>\n",
       "      <td>beam</td>\n",
       "      <td>dsl_5gram.klm</td>\n",
       "      <td>noisy_all_augs.pth</td>\n",
       "      <td>angiv nummeret på de ønskede registreringer</td>\n",
       "      <td>0.500000</td>\n",
       "      <td>0.116279</td>\n",
       "      <td>han giver nummer på de ønskede registreringer</td>\n",
       "    </tr>\n",
       "    <tr>\n",
       "      <th>1601</th>\n",
       "      <td>Tue_Noise_test_split</td>\n",
       "      <td>beam</td>\n",
       "      <td>dsl_5gram.klm</td>\n",
       "      <td>noisy_all_augs.pth</td>\n",
       "      <td>de havde kendt hinanden i godt ti år</td>\n",
       "      <td>0.500000</td>\n",
       "      <td>0.194444</td>\n",
       "      <td>de har erkendt landene godt ti år</td>\n",
       "    </tr>\n",
       "    <tr>\n",
       "      <th>1602</th>\n",
       "      <td>Tue_Noise_test_split</td>\n",
       "      <td>beam</td>\n",
       "      <td>dsl_5gram.klm</td>\n",
       "      <td>noisy_all_augs.pth</td>\n",
       "      <td>det var en klog beslutning hun tog</td>\n",
       "      <td>0.285714</td>\n",
       "      <td>0.117647</td>\n",
       "      <td>det var en klog beslutning på to</td>\n",
       "    </tr>\n",
       "    <tr>\n",
       "      <th>1603</th>\n",
       "      <td>Tue_Noise_test_split</td>\n",
       "      <td>beam</td>\n",
       "      <td>dsl_5gram.klm</td>\n",
       "      <td>noisy_all_augs.pth</td>\n",
       "      <td>vi skal jo behandle alle lige</td>\n",
       "      <td>0.666667</td>\n",
       "      <td>0.241379</td>\n",
       "      <td>vi skal behandles alene</td>\n",
       "    </tr>\n",
       "    <tr>\n",
       "      <th>1604</th>\n",
       "      <td>Tue_Noise_test_split</td>\n",
       "      <td>beam</td>\n",
       "      <td>dsl_5gram.klm</td>\n",
       "      <td>noisy_all_augs.pth</td>\n",
       "      <td>det er så legende let</td>\n",
       "      <td>0.400000</td>\n",
       "      <td>0.238095</td>\n",
       "      <td>det er så negligeret</td>\n",
       "    </tr>\n",
       "  </tbody>\n",
       "</table>\n",
       "<p>1605 rows × 8 columns</p>\n",
       "</div>"
      ],
      "text/plain": [
       "                 Data_type Decoder_type        LM_type              model_ID  \\\n",
       "0           Tue_test_split       greedy           None  DanSpeechPrimary.pth   \n",
       "1           Tue_test_split       greedy           None  DanSpeechPrimary.pth   \n",
       "2           Tue_test_split       greedy           None  DanSpeechPrimary.pth   \n",
       "3           Tue_test_split       greedy           None  DanSpeechPrimary.pth   \n",
       "4           Tue_test_split       greedy           None  DanSpeechPrimary.pth   \n",
       "...                    ...          ...            ...                   ...   \n",
       "1600  Tue_Noise_test_split         beam  dsl_5gram.klm    noisy_all_augs.pth   \n",
       "1601  Tue_Noise_test_split         beam  dsl_5gram.klm    noisy_all_augs.pth   \n",
       "1602  Tue_Noise_test_split         beam  dsl_5gram.klm    noisy_all_augs.pth   \n",
       "1603  Tue_Noise_test_split         beam  dsl_5gram.klm    noisy_all_augs.pth   \n",
       "1604  Tue_Noise_test_split         beam  dsl_5gram.klm    noisy_all_augs.pth   \n",
       "\n",
       "                                              Reference       WER       CER  \\\n",
       "0     videre skal politiet have yderligere beføjelse...  0.266667  0.022901   \n",
       "1     det er selvfølgelig ærgerligt at spændingen he...  0.454545  0.094891   \n",
       "2     først når den polare vinternat aftager og soll...  0.400000  0.071429   \n",
       "3     hans mål er at skabe landets største ejendomss...  0.166667  0.045045   \n",
       "4     baggrunden er at museumsbestyrelsen i den udbu...  0.312500  0.093458   \n",
       "...                                                 ...       ...       ...   \n",
       "1600        angiv nummeret på de ønskede registreringer  0.500000  0.116279   \n",
       "1601               de havde kendt hinanden i godt ti år  0.500000  0.194444   \n",
       "1602                 det var en klog beslutning hun tog  0.285714  0.117647   \n",
       "1603                      vi skal jo behandle alle lige  0.666667  0.241379   \n",
       "1604                              det er så legende let  0.400000  0.238095   \n",
       "\n",
       "                                             Transcript  \n",
       "0     videre skal politiet have ydeligere bepøjelser...  \n",
       "1     det er selvfølgelig ærgerligt at spændingen ha...  \n",
       "2     gørs når den polare vinternet aftager og solly...  \n",
       "3     hans måd er at skabe landets største ejendomss...  \n",
       "4     faggødden er at musemumsbestyrelsen i den udbu...  \n",
       "...                                                 ...  \n",
       "1600      han giver nummer på de ønskede registreringer  \n",
       "1601                  de har erkendt landene godt ti år  \n",
       "1602                   det var en klog beslutning på to  \n",
       "1603                            vi skal behandles alene  \n",
       "1604                               det er så negligeret  \n",
       "\n",
       "[1605 rows x 8 columns]"
      ]
     },
     "execution_count": 4,
     "metadata": {},
     "output_type": "execute_result"
    }
   ],
   "source": [
    "df_test"
   ]
  },
  {
   "cell_type": "code",
   "execution_count": 5,
   "metadata": {},
   "outputs": [],
   "source": [
    "#substitute LM_type with Data_type when new transcript is ready\n",
    "\n",
    "df_testmeans = df_test.groupby(['Decoder_type','LM_type','model_ID','Data_type']).mean()[[\"WER\",\"CER\"]].unstack()\n",
    "df_testmeans = df_testmeans[\"WER\"].loc[\"greedy\"].loc[\"None\"]\n"
   ]
  },
  {
   "cell_type": "code",
   "execution_count": 6,
   "metadata": {},
   "outputs": [
    {
     "data": {
      "text/html": [
       "<div>\n",
       "<style scoped>\n",
       "    .dataframe tbody tr th:only-of-type {\n",
       "        vertical-align: middle;\n",
       "    }\n",
       "\n",
       "    .dataframe tbody tr th {\n",
       "        vertical-align: top;\n",
       "    }\n",
       "\n",
       "    .dataframe thead th {\n",
       "        text-align: right;\n",
       "    }\n",
       "</style>\n",
       "<table border=\"1\" class=\"dataframe\">\n",
       "  <thead>\n",
       "    <tr style=\"text-align: right;\">\n",
       "      <th>Data_type</th>\n",
       "      <th>Tue_test_split</th>\n",
       "      <th>Tue_Noise_test_split</th>\n",
       "    </tr>\n",
       "    <tr>\n",
       "      <th>model_ID</th>\n",
       "      <th></th>\n",
       "      <th></th>\n",
       "    </tr>\n",
       "  </thead>\n",
       "  <tbody>\n",
       "    <tr>\n",
       "      <th>DanSpeechPrimary.pth</th>\n",
       "      <td>28.23</td>\n",
       "      <td>58.14</td>\n",
       "    </tr>\n",
       "    <tr>\n",
       "      <th>clean_all_augs.pth</th>\n",
       "      <td>26.70</td>\n",
       "      <td>56.80</td>\n",
       "    </tr>\n",
       "    <tr>\n",
       "      <th>clean_no_augs.pth</th>\n",
       "      <td>24.50</td>\n",
       "      <td>55.50</td>\n",
       "    </tr>\n",
       "    <tr>\n",
       "      <th>noisy_all_augs.pth</th>\n",
       "      <td>32.35</td>\n",
       "      <td>55.32</td>\n",
       "    </tr>\n",
       "    <tr>\n",
       "      <th>noisy_no_augs.pth</th>\n",
       "      <td>24.17</td>\n",
       "      <td>52.93</td>\n",
       "    </tr>\n",
       "  </tbody>\n",
       "</table>\n",
       "</div>"
      ],
      "text/plain": [
       "Data_type             Tue_test_split  Tue_Noise_test_split\n",
       "model_ID                                                  \n",
       "DanSpeechPrimary.pth           28.23                 58.14\n",
       "clean_all_augs.pth             26.70                 56.80\n",
       "clean_no_augs.pth              24.50                 55.50\n",
       "noisy_all_augs.pth             32.35                 55.32\n",
       "noisy_no_augs.pth              24.17                 52.93"
      ]
     },
     "execution_count": 6,
     "metadata": {},
     "output_type": "execute_result"
    }
   ],
   "source": [
    "round(df_testmeans[[\"Tue_test_split\",\"Tue_Noise_test_split\"]]*100,2)\n"
   ]
  },
  {
   "cell_type": "code",
   "execution_count": 7,
   "metadata": {
    "scrolled": true
   },
   "outputs": [
    {
     "data": {
      "image/png": "[encoded data removed]",
      "text/plain": [
       "<Figure size 432x288 with 1 Axes>"
      ]
     },
     "metadata": {
      "needs_background": "light"
     },
     "output_type": "display_data"
    }
   ],
   "source": [
    "import matplotlib.pyplot as plt\n",
    "\n",
    "xticks = [\"DanSpeech\",\"Clean all augs\",\"Clean no augs\",\"noisy all augs\",\"noisy no augs\"]\n",
    "\n",
    "plt.title(\"Baseline (clean data)\",fontsize=16)\n",
    "plt.bar(xticks,df_testmeans.Tue_test_split,color=\"green\")\n",
    "plt.hlines(0.282287,-1,8,linestyles=\"dashed\",label=\"Baseline performance\")\n",
    "plt.legend()\n",
    "plt.xticks(rotation=45)\n",
    "plt.ylabel(\"WER\",fontsize=12)\n",
    "plt.xticks(rotation=45,fontsize=11)\n",
    "#plt.ylim(0.20,0.35)\n",
    "plt.xlim(-.5,4.5)\n",
    "\n",
    "plt.show()\n"
   ]
  },
  {
   "cell_type": "code",
   "execution_count": 8,
   "metadata": {},
   "outputs": [
    {
     "data": {
      "image/png": "[encoded data removed]",
      "text/plain": [
       "<Figure size 432x288 with 1 Axes>"
      ]
     },
     "metadata": {
      "needs_background": "light"
     },
     "output_type": "display_data"
    }
   ],
   "source": [
    "import matplotlib.pyplot as plt\n",
    "\n",
    "xticks = [\"DanSpeech\",\"Clean all augs\",\"Clean no augs\",\"noisy all augs\",\"noisy no augs\"]\n",
    "\n",
    "plt.title(\"Baseline comparison (noisy data)\",fontsize=16)\n",
    "plt.bar(xticks,df_testmeans.Tue_Noise_test_split,color=\"green\")\n",
    "plt.hlines(0.581445,-1,8,linestyles=\"dashed\",label=\"Baseline performance\")\n",
    "plt.legend()\n",
    "plt.xticks(rotation=45)\n",
    "plt.ylabel(\"WER\",fontsize=12)\n",
    "plt.xticks(rotation=45,fontsize=11)\n",
    "#plt.ylim(0.20,0.35)\n",
    "plt.xlim(-.5,4.5)\n",
    "\n",
    "plt.show()"
   ]
  },
  {
   "cell_type": "markdown",
   "metadata": {},
   "source": [
    "# Confidence intervals for greedy on clean and noisy"
   ]
  },
  {
   "cell_type": "code",
   "execution_count": 9,
   "metadata": {},
   "outputs": [],
   "source": [
    "df_CI = df_test[df_test.Decoder_type == \"greedy\"]\n",
    "\n",
    "df_CI_clean = df_CI[df_CI.Data_type == \"Tue_test_split\"]\n",
    "\n",
    "df_CI_noisy = df_CI[df_CI.Data_type == \"Tue_Noise_test_split\"]"
   ]
  },
  {
   "cell_type": "markdown",
   "metadata": {},
   "source": [
    "## CI for clean data"
   ]
  },
  {
   "cell_type": "code",
   "execution_count": 10,
   "metadata": {},
   "outputs": [],
   "source": [
    "models = df_test.model_ID.unique()\n",
    "\n",
    "for i,m in enumerate(models):\n",
    "    if i == 0:\n",
    "        temp = df_CI_clean[df_CI_clean.model_ID.isin([m])][[\"Reference\",\"WER\"]]\n",
    "        temp = temp.rename(columns={\"WER\":f'{m}'})\n",
    "        temp = temp.set_index(\"Reference\")\n",
    "        \n",
    "        clean_ref_df = temp.copy()\n",
    "        \n",
    "    else:\n",
    "        temp = df_CI_clean[df_CI_clean.model_ID.isin([m])][[\"Reference\",\"WER\"]]\n",
    "        temp = temp.rename(columns={\"WER\":f'{m}'}) \n",
    "        temp = temp.set_index(\"Reference\")\n",
    "        \n",
    "        clean_ref_df = clean_ref_df.join(temp,on=[\"Reference\"])"
   ]
  },
  {
   "cell_type": "code",
   "execution_count": 11,
   "metadata": {},
   "outputs": [
    {
     "data": {
      "text/html": [
       "<div>\n",
       "<style scoped>\n",
       "    .dataframe tbody tr th:only-of-type {\n",
       "        vertical-align: middle;\n",
       "    }\n",
       "\n",
       "    .dataframe tbody tr th {\n",
       "        vertical-align: top;\n",
       "    }\n",
       "\n",
       "    .dataframe thead th {\n",
       "        text-align: right;\n",
       "    }\n",
       "</style>\n",
       "<table border=\"1\" class=\"dataframe\">\n",
       "  <thead>\n",
       "    <tr style=\"text-align: right;\">\n",
       "      <th></th>\n",
       "      <th>DanSpeechPrimary.pth</th>\n",
       "      <th>clean_no_augs.pth</th>\n",
       "      <th>clean_all_augs.pth</th>\n",
       "      <th>noisy_no_augs.pth</th>\n",
       "      <th>noisy_all_augs.pth</th>\n",
       "    </tr>\n",
       "    <tr>\n",
       "      <th>Reference</th>\n",
       "      <th></th>\n",
       "      <th></th>\n",
       "      <th></th>\n",
       "      <th></th>\n",
       "      <th></th>\n",
       "    </tr>\n",
       "  </thead>\n",
       "  <tbody>\n",
       "    <tr>\n",
       "      <th>der er en skala af udenrigspolitiske virkemidler</th>\n",
       "      <td>0.0</td>\n",
       "      <td>0.142857</td>\n",
       "      <td>0.142857</td>\n",
       "      <td>0.000000</td>\n",
       "      <td>0.142857</td>\n",
       "    </tr>\n",
       "    <tr>\n",
       "      <th>opfatter du dig som en succes eller som en fiasko</th>\n",
       "      <td>0.0</td>\n",
       "      <td>0.300000</td>\n",
       "      <td>0.200000</td>\n",
       "      <td>0.300000</td>\n",
       "      <td>0.300000</td>\n",
       "    </tr>\n",
       "    <tr>\n",
       "      <th>det er uretfærdigt at sådanne kåringer bliver foretaget af folk der rejser i embeds medfør</th>\n",
       "      <td>0.0</td>\n",
       "      <td>-0.066667</td>\n",
       "      <td>-0.066667</td>\n",
       "      <td>-0.133333</td>\n",
       "      <td>-0.133333</td>\n",
       "    </tr>\n",
       "    <tr>\n",
       "      <th>så meget for det upolitiske</th>\n",
       "      <td>0.0</td>\n",
       "      <td>0.000000</td>\n",
       "      <td>0.600000</td>\n",
       "      <td>0.000000</td>\n",
       "      <td>0.800000</td>\n",
       "    </tr>\n",
       "    <tr>\n",
       "      <th>hans mål er at skabe landets største ejendomsselskab der både skal kunne udvikle nye idéer og drive ejendommene</th>\n",
       "      <td>0.0</td>\n",
       "      <td>-0.055556</td>\n",
       "      <td>-0.055556</td>\n",
       "      <td>0.000000</td>\n",
       "      <td>-0.111111</td>\n",
       "    </tr>\n",
       "  </tbody>\n",
       "</table>\n",
       "</div>"
      ],
      "text/plain": [
       "                                                    DanSpeechPrimary.pth  \\\n",
       "Reference                                                                  \n",
       "der er en skala af udenrigspolitiske virkemidler                     0.0   \n",
       "opfatter du dig som en succes eller som en fiasko                    0.0   \n",
       "det er uretfærdigt at sådanne kåringer bliver f...                   0.0   \n",
       "så meget for det upolitiske                                          0.0   \n",
       "hans mål er at skabe landets største ejendomsse...                   0.0   \n",
       "\n",
       "                                                    clean_no_augs.pth  \\\n",
       "Reference                                                               \n",
       "der er en skala af udenrigspolitiske virkemidler             0.142857   \n",
       "opfatter du dig som en succes eller som en fiasko            0.300000   \n",
       "det er uretfærdigt at sådanne kåringer bliver f...          -0.066667   \n",
       "så meget for det upolitiske                                  0.000000   \n",
       "hans mål er at skabe landets største ejendomsse...          -0.055556   \n",
       "\n",
       "                                                    clean_all_augs.pth  \\\n",
       "Reference                                                                \n",
       "der er en skala af udenrigspolitiske virkemidler              0.142857   \n",
       "opfatter du dig som en succes eller som en fiasko             0.200000   \n",
       "det er uretfærdigt at sådanne kåringer bliver f...           -0.066667   \n",
       "så meget for det upolitiske                                   0.600000   \n",
       "hans mål er at skabe landets største ejendomsse...           -0.055556   \n",
       "\n",
       "                                                    noisy_no_augs.pth  \\\n",
       "Reference                                                               \n",
       "der er en skala af udenrigspolitiske virkemidler             0.000000   \n",
       "opfatter du dig som en succes eller som en fiasko            0.300000   \n",
       "det er uretfærdigt at sådanne kåringer bliver f...          -0.133333   \n",
       "så meget for det upolitiske                                  0.000000   \n",
       "hans mål er at skabe landets største ejendomsse...           0.000000   \n",
       "\n",
       "                                                    noisy_all_augs.pth  \n",
       "Reference                                                               \n",
       "der er en skala af udenrigspolitiske virkemidler              0.142857  \n",
       "opfatter du dig som en succes eller som en fiasko             0.300000  \n",
       "det er uretfærdigt at sådanne kåringer bliver f...           -0.133333  \n",
       "så meget for det upolitiske                                   0.800000  \n",
       "hans mål er at skabe landets største ejendomsse...           -0.111111  "
      ]
     },
     "execution_count": 11,
     "metadata": {},
     "output_type": "execute_result"
    }
   ],
   "source": [
    "clean_dif_df = (clean_ref_df.T - clean_ref_df[\"DanSpeechPrimary.pth\"]).T\n",
    "\n",
    "clean_dif_df.sample(5)"
   ]
  },
  {
   "cell_type": "markdown",
   "metadata": {},
   "source": [
    "# Confidence interval with alpha = 0.95"
   ]
  },
  {
   "cell_type": "code",
   "execution_count": 12,
   "metadata": {},
   "outputs": [],
   "source": [
    "m_clean = clean_ref_df.mean()\n",
    "s_clean = clean_ref_df.std()\n",
    "n_clean = len(clean_ref_df)"
   ]
  },
  {
   "cell_type": "code",
   "execution_count": 13,
   "metadata": {},
   "outputs": [
    {
     "name": "stdout",
     "output_type": "stream",
     "text": [
      "DanSpeechPrimary.pth: (22.0994155670464) - (34.35800533330928)\n",
      "clean_no_augs.pth: (19.116158214609243) - (29.88988882812258)\n",
      "clean_all_augs.pth: (20.35140420992358) - (33.04123223977809)\n",
      "noisy_no_augs.pth: (18.9224675133143) - (29.41762913520626)\n",
      "noisy_all_augs.pth: (25.699748366525455) - (38.99449358315127)\n"
     ]
    },
    {
     "data": {
      "text/plain": [
       "[None, None, None, None, None]"
      ]
     },
     "execution_count": 13,
     "metadata": {},
     "output_type": "execute_result"
    }
   ],
   "source": [
    "from scipy.stats import  t\n",
    "confidence=0.05\n",
    "\n",
    "h = t.ppf(1-(confidence/2), n_clean - 1) * (s_clean/(np.sqrt(n_clean)))\n",
    "\n",
    "start = m_clean - h\n",
    "end = m_clean + h\n",
    "\n",
    "start *= 100\n",
    "end *= 100\n",
    "\n",
    "CIs_forwards = list(zip(models,start,end))\n",
    "\n",
    "[print(f'{a}: ({b}) - ({c})') for a,b,c in CIs_forwards]"
   ]
  },
  {
   "cell_type": "markdown",
   "metadata": {},
   "source": [
    "# Paired confidence with DanSpeech Primary interval with alpha = 0.05"
   ]
  },
  {
   "cell_type": "code",
   "execution_count": 14,
   "metadata": {},
   "outputs": [],
   "source": [
    "m_clean = clean_dif_df.mean()\n",
    "s_clean = clean_dif_df.std()\n",
    "n_clean = len(clean_dif_df)"
   ]
  },
  {
   "cell_type": "code",
   "execution_count": 15,
   "metadata": {
    "scrolled": false
   },
   "outputs": [
    {
     "data": {
      "text/plain": [
       "DanSpeechPrimary.pth    0.000000\n",
       "clean_no_augs.pth      -0.037257\n",
       "clean_all_augs.pth     -0.015324\n",
       "noisy_no_augs.pth      -0.040587\n",
       "noisy_all_augs.pth      0.041184\n",
       "dtype: float64"
      ]
     },
     "execution_count": 15,
     "metadata": {},
     "output_type": "execute_result"
    }
   ],
   "source": [
    "m_clean"
   ]
  },
  {
   "cell_type": "code",
   "execution_count": 16,
   "metadata": {},
   "outputs": [
    {
     "name": "stdout",
     "output_type": "stream",
     "text": [
      "DanSpeechPrimary.pth: (0.0) - (0.0)\n",
      "clean_no_augs.pth: (-0.07613102655846661) - (0.001617287982228044)\n",
      "clean_all_augs.pth: (-0.06640752360566306) - (0.0357596790991229)\n",
      "noisy_no_augs.pth: (-0.07737412774541308) - (-0.0037991147729381503)\n",
      "noisy_all_augs.pth: (-0.013909057409433587) - (0.09627726790264407)\n"
     ]
    },
    {
     "data": {
      "text/plain": [
       "[None, None, None, None, None]"
      ]
     },
     "execution_count": 16,
     "metadata": {},
     "output_type": "execute_result"
    }
   ],
   "source": [
    "from scipy.stats import  t\n",
    "confidence=0.05\n",
    "\n",
    "h = t.ppf(1-(confidence/2), n_clean - 1) * (s_clean/(np.sqrt(n_clean)))\n",
    "\n",
    "start = m_clean - h\n",
    "end = m_clean + h\n",
    "\n",
    "CIs_forwards = list(zip(models,start,end))\n",
    "\n",
    "[print(f'{a}: ({b}) - ({c})') for a,b,c in CIs_forwards]"
   ]
  },
  {
   "cell_type": "markdown",
   "metadata": {},
   "source": [
    "## CI for noisy data"
   ]
  },
  {
   "cell_type": "code",
   "execution_count": 17,
   "metadata": {},
   "outputs": [],
   "source": [
    "models = df_test.model_ID.unique()\n",
    "\n",
    "for i,m in enumerate(models):\n",
    "    if i == 0:\n",
    "        temp = df_CI_noisy[df_CI_noisy.model_ID.isin([m])][[\"Reference\",\"WER\"]]\n",
    "        temp = temp.rename(columns={\"WER\":f'{m}'})\n",
    "        temp = temp.set_index(\"Reference\")\n",
    "        \n",
    "        noisy_ref_df = temp.copy()\n",
    "        \n",
    "    else:\n",
    "        temp = df_CI_noisy[df_CI_noisy.model_ID.isin([m])][[\"Reference\",\"WER\"]]\n",
    "        temp = temp.rename(columns={\"WER\":f'{m}'}) \n",
    "        temp = temp.set_index(\"Reference\")\n",
    "        \n",
    "        noisy_ref_df = noisy_ref_df.join(temp,on=[\"Reference\"])"
   ]
  },
  {
   "cell_type": "code",
   "execution_count": 18,
   "metadata": {},
   "outputs": [
    {
     "data": {
      "text/html": [
       "<div>\n",
       "<style scoped>\n",
       "    .dataframe tbody tr th:only-of-type {\n",
       "        vertical-align: middle;\n",
       "    }\n",
       "\n",
       "    .dataframe tbody tr th {\n",
       "        vertical-align: top;\n",
       "    }\n",
       "\n",
       "    .dataframe thead th {\n",
       "        text-align: right;\n",
       "    }\n",
       "</style>\n",
       "<table border=\"1\" class=\"dataframe\">\n",
       "  <thead>\n",
       "    <tr style=\"text-align: right;\">\n",
       "      <th></th>\n",
       "      <th>DanSpeechPrimary.pth</th>\n",
       "      <th>clean_no_augs.pth</th>\n",
       "      <th>clean_all_augs.pth</th>\n",
       "      <th>noisy_no_augs.pth</th>\n",
       "      <th>noisy_all_augs.pth</th>\n",
       "    </tr>\n",
       "    <tr>\n",
       "      <th>Reference</th>\n",
       "      <th></th>\n",
       "      <th></th>\n",
       "      <th></th>\n",
       "      <th></th>\n",
       "      <th></th>\n",
       "    </tr>\n",
       "  </thead>\n",
       "  <tbody>\n",
       "    <tr>\n",
       "      <th>det er min mor også</th>\n",
       "      <td>0.0</td>\n",
       "      <td>-0.20</td>\n",
       "      <td>0.2</td>\n",
       "      <td>0.00</td>\n",
       "      <td>-0.4</td>\n",
       "    </tr>\n",
       "    <tr>\n",
       "      <th>de skal hente deres datter</th>\n",
       "      <td>0.0</td>\n",
       "      <td>0.00</td>\n",
       "      <td>-0.2</td>\n",
       "      <td>0.20</td>\n",
       "      <td>0.4</td>\n",
       "    </tr>\n",
       "    <tr>\n",
       "      <th>undersøgelsen viser at børnene lytter mest til deres forældre når de skal finde ud af hvad de skal efter folkeskolen</th>\n",
       "      <td>0.0</td>\n",
       "      <td>-0.05</td>\n",
       "      <td>-0.1</td>\n",
       "      <td>-0.15</td>\n",
       "      <td>-0.2</td>\n",
       "    </tr>\n",
       "    <tr>\n",
       "      <th>begge brugte det samme argument</th>\n",
       "      <td>0.0</td>\n",
       "      <td>-0.20</td>\n",
       "      <td>0.0</td>\n",
       "      <td>-0.40</td>\n",
       "      <td>0.2</td>\n",
       "    </tr>\n",
       "    <tr>\n",
       "      <th>han lover at komme endnu højere på podiet næste år</th>\n",
       "      <td>0.0</td>\n",
       "      <td>0.00</td>\n",
       "      <td>-0.2</td>\n",
       "      <td>-0.10</td>\n",
       "      <td>-0.1</td>\n",
       "    </tr>\n",
       "  </tbody>\n",
       "</table>\n",
       "</div>"
      ],
      "text/plain": [
       "                                                    DanSpeechPrimary.pth  \\\n",
       "Reference                                                                  \n",
       "det er min mor også                                                  0.0   \n",
       "de skal hente deres datter                                           0.0   \n",
       "undersøgelsen viser at børnene lytter mest til ...                   0.0   \n",
       "begge brugte det samme argument                                      0.0   \n",
       "han lover at komme endnu højere på podiet næste år                   0.0   \n",
       "\n",
       "                                                    clean_no_augs.pth  \\\n",
       "Reference                                                               \n",
       "det er min mor også                                             -0.20   \n",
       "de skal hente deres datter                                       0.00   \n",
       "undersøgelsen viser at børnene lytter mest til ...              -0.05   \n",
       "begge brugte det samme argument                                 -0.20   \n",
       "han lover at komme endnu højere på podiet næste år               0.00   \n",
       "\n",
       "                                                    clean_all_augs.pth  \\\n",
       "Reference                                                                \n",
       "det er min mor også                                                0.2   \n",
       "de skal hente deres datter                                        -0.2   \n",
       "undersøgelsen viser at børnene lytter mest til ...                -0.1   \n",
       "begge brugte det samme argument                                    0.0   \n",
       "han lover at komme endnu højere på podiet næste år                -0.2   \n",
       "\n",
       "                                                    noisy_no_augs.pth  \\\n",
       "Reference                                                               \n",
       "det er min mor også                                              0.00   \n",
       "de skal hente deres datter                                       0.20   \n",
       "undersøgelsen viser at børnene lytter mest til ...              -0.15   \n",
       "begge brugte det samme argument                                 -0.40   \n",
       "han lover at komme endnu højere på podiet næste år              -0.10   \n",
       "\n",
       "                                                    noisy_all_augs.pth  \n",
       "Reference                                                               \n",
       "det er min mor også                                               -0.4  \n",
       "de skal hente deres datter                                         0.4  \n",
       "undersøgelsen viser at børnene lytter mest til ...                -0.2  \n",
       "begge brugte det samme argument                                    0.2  \n",
       "han lover at komme endnu højere på podiet næste år                -0.1  "
      ]
     },
     "execution_count": 18,
     "metadata": {},
     "output_type": "execute_result"
    }
   ],
   "source": [
    "noisy_dif_df = (noisy_ref_df.T - noisy_ref_df[\"DanSpeechPrimary.pth\"]).T\n",
    "\n",
    "noisy_dif_df.sample(5)"
   ]
  },
  {
   "cell_type": "markdown",
   "metadata": {},
   "source": [
    "# Confidence interval with alpha = 0.05"
   ]
  },
  {
   "cell_type": "code",
   "execution_count": 19,
   "metadata": {},
   "outputs": [],
   "source": [
    "m_noisy = noisy_ref_df.mean()\n",
    "s_noisy = noisy_ref_df.std()\n",
    "n_noisy = len(noisy_ref_df)"
   ]
  },
  {
   "cell_type": "code",
   "execution_count": 20,
   "metadata": {},
   "outputs": [
    {
     "data": {
      "text/plain": [
       "DanSpeechPrimary.pth    0.581445\n",
       "clean_no_augs.pth       0.555022\n",
       "clean_all_augs.pth      0.567992\n",
       "noisy_no_augs.pth       0.529330\n",
       "noisy_all_augs.pth      0.553219\n",
       "dtype: float64"
      ]
     },
     "execution_count": 20,
     "metadata": {},
     "output_type": "execute_result"
    }
   ],
   "source": [
    "m_noisy"
   ]
  },
  {
   "cell_type": "code",
   "execution_count": 21,
   "metadata": {},
   "outputs": [
    {
     "name": "stdout",
     "output_type": "stream",
     "text": [
      "DanSpeechPrimary.pth: (51.09160359648121) - (65.19735799461746)\n",
      "clean_no_augs.pth: (49.05524410895827) - (61.94922751047278)\n",
      "clean_all_augs.pth: (50.01780358962065) - (63.580652051537555)\n",
      "noisy_no_augs.pth: (46.72934391966408) - (59.13674135835927)\n",
      "noisy_all_augs.pth: (49.39131052135598) - (61.2524091573286)\n"
     ]
    },
    {
     "data": {
      "text/plain": [
       "[None, None, None, None, None]"
      ]
     },
     "execution_count": 21,
     "metadata": {},
     "output_type": "execute_result"
    }
   ],
   "source": [
    "from scipy.stats import  t\n",
    "confidence=0.05\n",
    "\n",
    "h = t.ppf(1-(confidence/2), n_noisy - 1) * (s_noisy/(np.sqrt(n_noisy)))\n",
    "\n",
    "start = m_noisy - h\n",
    "end = m_noisy + h\n",
    "\n",
    "start *= 100\n",
    "end *= 100\n",
    "\n",
    "CIs_forwards = list(zip(models,start,end))\n",
    "\n",
    "[print(f'{a}: ({b}) - ({c})') for a,b,c in CIs_forwards]"
   ]
  },
  {
   "cell_type": "markdown",
   "metadata": {},
   "source": [
    "# Paired confidence interval with DanSpeech Primary with alpha = 0.9"
   ]
  },
  {
   "cell_type": "code",
   "execution_count": 22,
   "metadata": {},
   "outputs": [],
   "source": [
    "m_noisy = noisy_dif_df.mean()\n",
    "s_noisy = noisy_dif_df.std()\n",
    "n_noisy = len(noisy_dif_df)"
   ]
  },
  {
   "cell_type": "code",
   "execution_count": 23,
   "metadata": {},
   "outputs": [
    {
     "data": {
      "text/plain": [
       "DanSpeechPrimary.pth    0.000000\n",
       "clean_no_augs.pth      -0.026422\n",
       "clean_all_augs.pth     -0.013453\n",
       "noisy_no_augs.pth      -0.052114\n",
       "noisy_all_augs.pth     -0.028226\n",
       "dtype: float64"
      ]
     },
     "execution_count": 23,
     "metadata": {},
     "output_type": "execute_result"
    }
   ],
   "source": [
    "m_noisy"
   ]
  },
  {
   "cell_type": "code",
   "execution_count": 24,
   "metadata": {},
   "outputs": [
    {
     "name": "stdout",
     "output_type": "stream",
     "text": [
      "DanSpeechPrimary.pth: (0.0) - (0.0)\n",
      "clean_no_augs.pth: (-0.0641722286340486) - (0.011327328917372943)\n",
      "clean_all_augs.pth: (-0.060550256095537935) - (0.033645196596133325)\n",
      "noisy_no_augs.pth: (-0.09620226226034166) - (-0.00802650087041111)\n",
      "noisy_all_augs.pth: (-0.08723437986951138) - (0.03078196074537057)\n"
     ]
    },
    {
     "data": {
      "text/plain": [
       "[None, None, None, None, None]"
      ]
     },
     "execution_count": 24,
     "metadata": {},
     "output_type": "execute_result"
    }
   ],
   "source": [
    "from scipy.stats import  t\n",
    "confidence=0.05\n",
    "\n",
    "h = t.ppf(1-(confidence/2), n_noisy - 1) * (s_noisy/(np.sqrt(n_noisy)))\n",
    "\n",
    "start = m_noisy - h\n",
    "end = m_noisy + h\n",
    "\n",
    "CIs_forwards = list(zip(models,start,end))\n",
    "\n",
    "[print(f'{a}: ({b}) - ({c})') for a,b,c in CIs_forwards]"
   ]
  },
  {
   "cell_type": "code",
   "execution_count": null,
   "metadata": {},
   "outputs": [],
   "source": []
  }
 ],
 "metadata": {
  "kernelspec": {
   "display_name": "Python 3",
   "language": "python",
   "name": "python3"
  },
  "language_info": {
   "codemirror_mode": {
    "name": "ipython",
    "version": 3
   },
   "file_extension": ".py",
   "mimetype": "text/x-python",
   "name": "python",
   "nbconvert_exporter": "python",
   "pygments_lexer": "ipython3",
   "version": "3.8.1"
  }
 },
 "nbformat": 4,
 "nbformat_minor": 4
}
