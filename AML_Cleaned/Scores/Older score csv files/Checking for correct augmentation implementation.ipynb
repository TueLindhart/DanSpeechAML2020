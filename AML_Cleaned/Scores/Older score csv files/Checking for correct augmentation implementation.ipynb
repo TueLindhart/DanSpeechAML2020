{
 "cells": [
  {
   "cell_type": "code",
   "execution_count": 1,
   "metadata": {},
   "outputs": [],
   "source": [
    "import pandas as pd\n",
    "import numpy as np"
   ]
  },
  {
   "cell_type": "code",
   "execution_count": 38,
   "metadata": {},
   "outputs": [],
   "source": [
    "df = pd.read_csv(\"Forward_AblationClean_new_lr.csv\",sep=\";\")"
   ]
  },
  {
   "cell_type": "code",
   "execution_count": 41,
   "metadata": {},
   "outputs": [
    {
     "data": {
      "text/plain": [
       "array(['AblationClean_Baseline', 'AblationClean_only_tempo_perturb',\n",
       "       'AblationClean_only_room_reverb',\n",
       "       'AblationClean_only_volume_perturb', 'AblationClean_only_add_wn',\n",
       "       'AblationClean_only_shift_perturb',\n",
       "       'AblationClean_only_spec_augment',\n",
       "       'AblationClean_only_speed_perturb'], dtype=object)"
      ]
     },
     "execution_count": 41,
     "metadata": {},
     "output_type": "execute_result"
    }
   ],
   "source": [
    "df.Model_id.unique()"
   ]
  },
  {
   "cell_type": "code",
   "execution_count": 39,
   "metadata": {},
   "outputs": [
    {
     "name": "stdout",
     "output_type": "stream",
     "text": [
      "AblationClean_Baseline\n",
      "['[]']\n",
      "AblationClean_only_tempo_perturb\n",
      "[\"['tempo_perturb']\"]\n",
      "AblationClean_only_room_reverb\n",
      "[\"['room_reverb']\"]\n",
      "AblationClean_only_volume_perturb\n",
      "[\"['volume_perturb']\"]\n",
      "AblationClean_only_add_wn\n",
      "[\"['add_wn']\"]\n",
      "AblationClean_only_shift_perturb\n",
      "[\"['shift_perturb']\"]\n",
      "AblationClean_only_spec_augment\n",
      "[\"['spec_augment']\"]\n",
      "AblationClean_only_speed_perturb\n",
      "[\"['speed_perturb']\"]\n"
     ]
    }
   ],
   "source": [
    "for m in df.Model_id.unique():\n",
    "    \n",
    "    temp = df[df.Model_id == m].Augmentation_list.unique()\n",
    "    print(m)\n",
    "    print(temp)"
   ]
  },
  {
   "cell_type": "code",
   "execution_count": null,
   "metadata": {},
   "outputs": [],
   "source": []
  }
 ],
 "metadata": {
  "kernelspec": {
   "display_name": "Python 3",
   "language": "python",
   "name": "python3"
  },
  "language_info": {
   "codemirror_mode": {
    "name": "ipython",
    "version": 3
   },
   "file_extension": ".py",
   "mimetype": "text/x-python",
   "name": "python",
   "nbconvert_exporter": "python",
   "pygments_lexer": "ipython3",
   "version": "3.8.1"
  }
 },
 "nbformat": 4,
 "nbformat_minor": 4
}
