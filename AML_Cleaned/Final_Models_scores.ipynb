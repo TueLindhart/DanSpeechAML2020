{
 "cells": [
  {
   "cell_type": "code",
   "execution_count": 1,
   "metadata": {},
   "outputs": [],
   "source": [
    "import pandas as pd\n",
    "import numpy as np\n",
    "import os"
   ]
  },
  {
   "cell_type": "code",
   "execution_count": 2,
   "metadata": {},
   "outputs": [
    {
     "data": {
      "text/plain": [
       "'/home/user/DanSpeech-AdvancedMachineLearning/AML Cleaned'"
      ]
     },
     "execution_count": 2,
     "metadata": {},
     "output_type": "execute_result"
    }
   ],
   "source": [
    "os.getcwd()"
   ]
  },
  {
   "cell_type": "markdown",
   "metadata": {},
   "source": [
    "# Ablation Search on clean dataset"
   ]
  },
  {
   "cell_type": "markdown",
   "metadata": {},
   "source": [
    "## Forward feature selection"
   ]
  },
  {
   "cell_type": "code",
   "execution_count": 3,
   "metadata": {},
   "outputs": [],
   "source": [
    "path = os.path.join(os.getcwd(),\"Scores\")\n",
    "\n",
    "df_final = pd.read_csv(os.path.join(path,\"FinaleModels.csv\"),sep=\";\")\n",
    "\n",
    "df_base = pd.read_csv(os.path.join(path,\"Baseline_Test_scores.csv\"),sep=\";\")\n"
   ]
  },
  {
   "cell_type": "code",
   "execution_count": 4,
   "metadata": {},
   "outputs": [
    {
     "data": {
      "text/html": [
       "<div>\n",
       "<style scoped>\n",
       "    .dataframe tbody tr th:only-of-type {\n",
       "        vertical-align: middle;\n",
       "    }\n",
       "\n",
       "    .dataframe tbody tr th {\n",
       "        vertical-align: top;\n",
       "    }\n",
       "\n",
       "    .dataframe thead th {\n",
       "        text-align: right;\n",
       "    }\n",
       "</style>\n",
       "<table border=\"1\" class=\"dataframe\">\n",
       "  <thead>\n",
       "    <tr style=\"text-align: right;\">\n",
       "      <th></th>\n",
       "      <th>Data_type</th>\n",
       "      <th>Decoder_type</th>\n",
       "      <th>LM_type</th>\n",
       "      <th>model_ID</th>\n",
       "      <th>Reference</th>\n",
       "      <th>WER</th>\n",
       "      <th>CER</th>\n",
       "      <th>Transcript</th>\n",
       "    </tr>\n",
       "  </thead>\n",
       "  <tbody>\n",
       "    <tr>\n",
       "      <th>434</th>\n",
       "      <td>Tue_test_split</td>\n",
       "      <td>beam</td>\n",
       "      <td>dsl_5gram.klm</td>\n",
       "      <td>Noisy_original_hyper-parameters_both_augs.pth</td>\n",
       "      <td>jeg kan med sindsro sige at jeg er overbevist ...</td>\n",
       "      <td>0.133333</td>\n",
       "      <td>0.038961</td>\n",
       "      <td>der kan med sindsro sige at jeg er overbevist ...</td>\n",
       "    </tr>\n",
       "    <tr>\n",
       "      <th>972</th>\n",
       "      <td>Tue_test_split</td>\n",
       "      <td>greedy</td>\n",
       "      <td>None</td>\n",
       "      <td>Noisy_original_hyper-parameters_only_spec_augm...</td>\n",
       "      <td>forsvaret vil ifølge regeringen også i årene f...</td>\n",
       "      <td>0.062500</td>\n",
       "      <td>0.029703</td>\n",
       "      <td>forsvaret vil ifølge regeringen også i årene f...</td>\n",
       "    </tr>\n",
       "  </tbody>\n",
       "</table>\n",
       "</div>"
      ],
      "text/plain": [
       "          Data_type Decoder_type        LM_type  \\\n",
       "434  Tue_test_split         beam  dsl_5gram.klm   \n",
       "972  Tue_test_split       greedy           None   \n",
       "\n",
       "                                              model_ID  \\\n",
       "434      Noisy_original_hyper-parameters_both_augs.pth   \n",
       "972  Noisy_original_hyper-parameters_only_spec_augm...   \n",
       "\n",
       "                                             Reference       WER       CER  \\\n",
       "434  jeg kan med sindsro sige at jeg er overbevist ...  0.133333  0.038961   \n",
       "972  forsvaret vil ifølge regeringen også i årene f...  0.062500  0.029703   \n",
       "\n",
       "                                            Transcript  \n",
       "434  der kan med sindsro sige at jeg er overbevist ...  \n",
       "972  forsvaret vil ifølge regeringen også i årene f...  "
      ]
     },
     "execution_count": 4,
     "metadata": {},
     "output_type": "execute_result"
    }
   ],
   "source": [
    "df_final.sample(2)"
   ]
  },
  {
   "cell_type": "code",
   "execution_count": 5,
   "metadata": {},
   "outputs": [
    {
     "data": {
      "text/html": [
       "<div>\n",
       "<style scoped>\n",
       "    .dataframe tbody tr th:only-of-type {\n",
       "        vertical-align: middle;\n",
       "    }\n",
       "\n",
       "    .dataframe tbody tr th {\n",
       "        vertical-align: top;\n",
       "    }\n",
       "\n",
       "    .dataframe thead th {\n",
       "        text-align: right;\n",
       "    }\n",
       "</style>\n",
       "<table border=\"1\" class=\"dataframe\">\n",
       "  <thead>\n",
       "    <tr style=\"text-align: right;\">\n",
       "      <th></th>\n",
       "      <th>Data_type</th>\n",
       "      <th>Decoder_type</th>\n",
       "      <th>LM_type</th>\n",
       "      <th>model_ID</th>\n",
       "      <th>Reference</th>\n",
       "      <th>WER</th>\n",
       "      <th>CER</th>\n",
       "      <th>Transcript</th>\n",
       "    </tr>\n",
       "  </thead>\n",
       "  <tbody>\n",
       "    <tr>\n",
       "      <th>97</th>\n",
       "      <td>Tue_test_split</td>\n",
       "      <td>beam</td>\n",
       "      <td>dsl_5gram.klm</td>\n",
       "      <td>DanSpeechPrimary.pth</td>\n",
       "      <td>det er selvfølgelig ærgerligt at spændingen he...</td>\n",
       "      <td>0.090909</td>\n",
       "      <td>0.036496</td>\n",
       "      <td>det er selvfølgelig ærgerligt at spændingen ha...</td>\n",
       "    </tr>\n",
       "    <tr>\n",
       "      <th>1451</th>\n",
       "      <td>Tue_Noise_test_split</td>\n",
       "      <td>greedy</td>\n",
       "      <td>None</td>\n",
       "      <td>noisy_all_augs.pth</td>\n",
       "      <td>før den tid havde kunstsamlingerne andre funkt...</td>\n",
       "      <td>0.714286</td>\n",
       "      <td>0.196078</td>\n",
       "      <td>dører de til have kunstsamlingerne andre pensi...</td>\n",
       "    </tr>\n",
       "  </tbody>\n",
       "</table>\n",
       "</div>"
      ],
      "text/plain": [
       "                 Data_type Decoder_type        LM_type              model_ID  \\\n",
       "97          Tue_test_split         beam  dsl_5gram.klm  DanSpeechPrimary.pth   \n",
       "1451  Tue_Noise_test_split       greedy           None    noisy_all_augs.pth   \n",
       "\n",
       "                                              Reference       WER       CER  \\\n",
       "97    det er selvfølgelig ærgerligt at spændingen he...  0.090909  0.036496   \n",
       "1451  før den tid havde kunstsamlingerne andre funkt...  0.714286  0.196078   \n",
       "\n",
       "                                             Transcript  \n",
       "97    det er selvfølgelig ærgerligt at spændingen ha...  \n",
       "1451  dører de til have kunstsamlingerne andre pensi...  "
      ]
     },
     "execution_count": 5,
     "metadata": {},
     "output_type": "execute_result"
    }
   ],
   "source": [
    "df_base.sample(2)"
   ]
  },
  {
   "cell_type": "code",
   "execution_count": 6,
   "metadata": {},
   "outputs": [],
   "source": [
    "#substitute LM_type with Data_type when new transcript is ready\n",
    "\n",
    "df_finalmeans = df_final.groupby(['Decoder_type','LM_type','model_ID','Data_type']).mean()[[\"WER\",\"CER\"]].unstack()\n",
    "df_finalmeans = df_finalmeans[\"WER\"].loc[\"greedy\"].loc[\"None\"]\n",
    "\n",
    "df_basemeans = df_base.groupby(['Decoder_type','LM_type','model_ID','Data_type']).mean()[[\"WER\",\"CER\"]].unstack()\n",
    "df_basemeans = df_basemeans[\"WER\"].loc[\"greedy\"].loc[\"None\"]\n",
    "\n",
    "df_finalmeans = round(df_finalmeans[[\"Tue_test_split\",\"Tue_Noise_test_split\"]]*100,2)\n",
    "df_basemeans = round(df_basemeans[[\"Tue_test_split\",\"Tue_Noise_test_split\"]]*100,2)\n"
   ]
  },
  {
   "cell_type": "code",
   "execution_count": 7,
   "metadata": {
    "scrolled": true
   },
   "outputs": [
    {
     "data": {
      "text/html": [
       "<div>\n",
       "<style scoped>\n",
       "    .dataframe tbody tr th:only-of-type {\n",
       "        vertical-align: middle;\n",
       "    }\n",
       "\n",
       "    .dataframe tbody tr th {\n",
       "        vertical-align: top;\n",
       "    }\n",
       "\n",
       "    .dataframe thead th {\n",
       "        text-align: right;\n",
       "    }\n",
       "</style>\n",
       "<table border=\"1\" class=\"dataframe\">\n",
       "  <thead>\n",
       "    <tr style=\"text-align: right;\">\n",
       "      <th>Data_type</th>\n",
       "      <th>Tue_test_split</th>\n",
       "      <th>Tue_Noise_test_split</th>\n",
       "    </tr>\n",
       "    <tr>\n",
       "      <th>model_ID</th>\n",
       "      <th></th>\n",
       "      <th></th>\n",
       "    </tr>\n",
       "  </thead>\n",
       "  <tbody>\n",
       "    <tr>\n",
       "      <th>Clean_original_hyper-parameters.pth</th>\n",
       "      <td>24.79</td>\n",
       "      <td>53.47</td>\n",
       "    </tr>\n",
       "    <tr>\n",
       "      <th>Noisy_original_hyper-parameters_both_augs.pth</th>\n",
       "      <td>26.88</td>\n",
       "      <td>49.14</td>\n",
       "    </tr>\n",
       "    <tr>\n",
       "      <th>Noisy_original_hyper-parameters_only_room_reverb.pth</th>\n",
       "      <td>23.68</td>\n",
       "      <td>46.56</td>\n",
       "    </tr>\n",
       "    <tr>\n",
       "      <th>Noisy_original_hyper-parameters_only_spec_augment.pth</th>\n",
       "      <td>26.09</td>\n",
       "      <td>50.52</td>\n",
       "    </tr>\n",
       "  </tbody>\n",
       "</table>\n",
       "</div>"
      ],
      "text/plain": [
       "Data_type                                           Tue_test_split  \\\n",
       "model_ID                                                             \n",
       "Clean_original_hyper-parameters.pth                          24.79   \n",
       "Noisy_original_hyper-parameters_both_augs.pth                26.88   \n",
       "Noisy_original_hyper-parameters_only_room_rever...           23.68   \n",
       "Noisy_original_hyper-parameters_only_spec_augme...           26.09   \n",
       "\n",
       "Data_type                                           Tue_Noise_test_split  \n",
       "model_ID                                                                  \n",
       "Clean_original_hyper-parameters.pth                                53.47  \n",
       "Noisy_original_hyper-parameters_both_augs.pth                      49.14  \n",
       "Noisy_original_hyper-parameters_only_room_rever...                 46.56  \n",
       "Noisy_original_hyper-parameters_only_spec_augme...                 50.52  "
      ]
     },
     "execution_count": 7,
     "metadata": {},
     "output_type": "execute_result"
    }
   ],
   "source": [
    "df_finalmeans"
   ]
  },
  {
   "cell_type": "code",
   "execution_count": 8,
   "metadata": {
    "scrolled": false
   },
   "outputs": [
    {
     "data": {
      "text/html": [
       "<div>\n",
       "<style scoped>\n",
       "    .dataframe tbody tr th:only-of-type {\n",
       "        vertical-align: middle;\n",
       "    }\n",
       "\n",
       "    .dataframe tbody tr th {\n",
       "        vertical-align: top;\n",
       "    }\n",
       "\n",
       "    .dataframe thead th {\n",
       "        text-align: right;\n",
       "    }\n",
       "</style>\n",
       "<table border=\"1\" class=\"dataframe\">\n",
       "  <thead>\n",
       "    <tr style=\"text-align: right;\">\n",
       "      <th>Data_type</th>\n",
       "      <th>Tue_test_split</th>\n",
       "      <th>Tue_Noise_test_split</th>\n",
       "    </tr>\n",
       "    <tr>\n",
       "      <th>model_ID</th>\n",
       "      <th></th>\n",
       "      <th></th>\n",
       "    </tr>\n",
       "  </thead>\n",
       "  <tbody>\n",
       "    <tr>\n",
       "      <th>clean_all_augs.pth</th>\n",
       "      <td>26.70</td>\n",
       "      <td>56.80</td>\n",
       "    </tr>\n",
       "    <tr>\n",
       "      <th>noisy_all_augs.pth</th>\n",
       "      <td>32.35</td>\n",
       "      <td>55.32</td>\n",
       "    </tr>\n",
       "  </tbody>\n",
       "</table>\n",
       "</div>"
      ],
      "text/plain": [
       "Data_type           Tue_test_split  Tue_Noise_test_split\n",
       "model_ID                                                \n",
       "clean_all_augs.pth           26.70                 56.80\n",
       "noisy_all_augs.pth           32.35                 55.32"
      ]
     },
     "execution_count": 8,
     "metadata": {},
     "output_type": "execute_result"
    }
   ],
   "source": [
    "df_basemeans.loc[[\"clean_all_augs.pth\",\"noisy_all_augs.pth\"]]"
   ]
  },
  {
   "cell_type": "markdown",
   "metadata": {},
   "source": [
    "# Confidence intervals for greedy on clean and noisy"
   ]
  },
  {
   "cell_type": "code",
   "execution_count": 9,
   "metadata": {},
   "outputs": [],
   "source": [
    "df_CI_final = df_final[df_final.Decoder_type == \"greedy\"]\n",
    "\n",
    "df_CI_clean_final = df_CI_final[df_CI_final.Data_type == \"Tue_test_split\"]\n",
    "\n",
    "df_CI_noisy_final = df_CI_final[df_CI_final.Data_type == \"Tue_Noise_test_split\"]"
   ]
  },
  {
   "cell_type": "code",
   "execution_count": 10,
   "metadata": {},
   "outputs": [],
   "source": [
    "df_CI_base = df_base[df_base.Decoder_type == \"greedy\"]\n",
    "\n",
    "df_CI_clean_base = df_CI_base[df_CI_base.Data_type == \"Tue_test_split\"]\n",
    "\n",
    "df_CI_noisy_base = df_CI_base[df_CI_base.Data_type == \"Tue_Noise_test_split\"]"
   ]
  },
  {
   "cell_type": "markdown",
   "metadata": {},
   "source": [
    "## Paired CI for clean data"
   ]
  },
  {
   "cell_type": "code",
   "execution_count": 11,
   "metadata": {},
   "outputs": [],
   "source": [
    "#Reference WER dataframe for final models\n",
    "models = df_final.model_ID.unique()\n",
    "\n",
    "for i,m in enumerate(models):\n",
    "    if i == 0:\n",
    "        temp = df_CI_clean_final[df_CI_clean_final.model_ID.isin([m])][[\"Reference\",\"WER\"]]\n",
    "        temp = temp.rename(columns={\"WER\":f'{m}'})\n",
    "        temp = temp.set_index(\"Reference\")\n",
    "        \n",
    "        clean_ref_df_final = temp.copy()\n",
    "        \n",
    "    else:\n",
    "        temp = df_CI_clean_final[df_CI_clean_final.model_ID.isin([m])][[\"Reference\",\"WER\"]]\n",
    "        temp = temp.rename(columns={\"WER\":f'{m}'}) \n",
    "        temp = temp.set_index(\"Reference\")\n",
    "        \n",
    "        clean_ref_df_final = clean_ref_df_final.join(temp,on=[\"Reference\"])"
   ]
  },
  {
   "cell_type": "code",
   "execution_count": 12,
   "metadata": {},
   "outputs": [],
   "source": [
    "#Reference WER dataframe for baseline scores\n",
    "models = df_base.model_ID.unique()\n",
    "\n",
    "for i,m in enumerate(models):\n",
    "    if i == 0:\n",
    "        temp = df_CI_clean_base[df_CI_clean_base.model_ID.isin([m])][[\"Reference\",\"WER\"]]\n",
    "        temp = temp.rename(columns={\"WER\":f'{m}'})\n",
    "        temp = temp.set_index(\"Reference\")\n",
    "        \n",
    "        clean_ref_df_base = temp.copy()\n",
    "        \n",
    "    else:\n",
    "        temp = df_CI_clean_base[df_CI_clean_base.model_ID.isin([m])][[\"Reference\",\"WER\"]]\n",
    "        temp = temp.rename(columns={\"WER\":f'{m}'}) \n",
    "        temp = temp.set_index(\"Reference\")\n",
    "        \n",
    "        clean_ref_df_base = clean_ref_df_base.join(temp,on=[\"Reference\"])"
   ]
  },
  {
   "cell_type": "code",
   "execution_count": 28,
   "metadata": {
    "scrolled": true
   },
   "outputs": [
    {
     "data": {
      "text/html": [
       "<div>\n",
       "<style scoped>\n",
       "    .dataframe tbody tr th:only-of-type {\n",
       "        vertical-align: middle;\n",
       "    }\n",
       "\n",
       "    .dataframe tbody tr th {\n",
       "        vertical-align: top;\n",
       "    }\n",
       "\n",
       "    .dataframe thead th {\n",
       "        text-align: right;\n",
       "    }\n",
       "</style>\n",
       "<table border=\"1\" class=\"dataframe\">\n",
       "  <thead>\n",
       "    <tr style=\"text-align: right;\">\n",
       "      <th></th>\n",
       "      <th>Clean_original_hyper-parameters.pth</th>\n",
       "      <th>Noisy_original_hyper-parameters_both_augs.pth</th>\n",
       "      <th>Noisy_original_hyper-parameters_only_room_reverb.pth</th>\n",
       "      <th>Noisy_original_hyper-parameters_only_spec_augment.pth</th>\n",
       "      <th>DanSpeechPrimary.pth</th>\n",
       "      <th>clean_no_augs.pth</th>\n",
       "      <th>clean_all_augs.pth</th>\n",
       "      <th>noisy_no_augs.pth</th>\n",
       "      <th>noisy_all_augs.pth</th>\n",
       "    </tr>\n",
       "    <tr>\n",
       "      <th>Reference</th>\n",
       "      <th></th>\n",
       "      <th></th>\n",
       "      <th></th>\n",
       "      <th></th>\n",
       "      <th></th>\n",
       "      <th></th>\n",
       "      <th></th>\n",
       "      <th></th>\n",
       "      <th></th>\n",
       "    </tr>\n",
       "  </thead>\n",
       "  <tbody>\n",
       "    <tr>\n",
       "      <th>videre skal politiet have yderligere beføjelser til at gennemgå hotelgæstebøger samt telefonselskaber og kreditkortfirmaers arkiver</th>\n",
       "      <td>-0.133333</td>\n",
       "      <td>-0.133333</td>\n",
       "      <td>-0.133333</td>\n",
       "      <td>-0.066667</td>\n",
       "      <td>0.066667</td>\n",
       "      <td>0.0</td>\n",
       "      <td>0.0</td>\n",
       "      <td>0.000000</td>\n",
       "      <td>-0.066667</td>\n",
       "    </tr>\n",
       "    <tr>\n",
       "      <th>hertil kommer et mindre antal institutioner og erhvervsvirksomheder</th>\n",
       "      <td>0.000000</td>\n",
       "      <td>0.250000</td>\n",
       "      <td>0.250000</td>\n",
       "      <td>0.000000</td>\n",
       "      <td>0.125000</td>\n",
       "      <td>0.0</td>\n",
       "      <td>0.0</td>\n",
       "      <td>0.250000</td>\n",
       "      <td>0.375000</td>\n",
       "    </tr>\n",
       "    <tr>\n",
       "      <th>det er uretfærdigt at sådanne kåringer bliver foretaget af folk der rejser i embeds medfør</th>\n",
       "      <td>-0.066667</td>\n",
       "      <td>0.133333</td>\n",
       "      <td>-0.066667</td>\n",
       "      <td>0.066667</td>\n",
       "      <td>0.066667</td>\n",
       "      <td>0.0</td>\n",
       "      <td>0.0</td>\n",
       "      <td>-0.066667</td>\n",
       "      <td>-0.066667</td>\n",
       "    </tr>\n",
       "    <tr>\n",
       "      <th>så meget for det upolitiske</th>\n",
       "      <td>-0.200000</td>\n",
       "      <td>-0.600000</td>\n",
       "      <td>-0.600000</td>\n",
       "      <td>-0.200000</td>\n",
       "      <td>-0.600000</td>\n",
       "      <td>-0.6</td>\n",
       "      <td>0.0</td>\n",
       "      <td>-0.600000</td>\n",
       "      <td>0.200000</td>\n",
       "    </tr>\n",
       "    <tr>\n",
       "      <th>en syv seks en seksten fire hundrede og tre</th>\n",
       "      <td>0.000000</td>\n",
       "      <td>0.000000</td>\n",
       "      <td>0.000000</td>\n",
       "      <td>0.000000</td>\n",
       "      <td>0.000000</td>\n",
       "      <td>0.0</td>\n",
       "      <td>0.0</td>\n",
       "      <td>0.000000</td>\n",
       "      <td>0.000000</td>\n",
       "    </tr>\n",
       "  </tbody>\n",
       "</table>\n",
       "</div>"
      ],
      "text/plain": [
       "                                                    Clean_original_hyper-parameters.pth  \\\n",
       "Reference                                                                                 \n",
       "videre skal politiet have yderligere beføjelser...                            -0.133333   \n",
       "hertil kommer et mindre antal institutioner og ...                             0.000000   \n",
       "det er uretfærdigt at sådanne kåringer bliver f...                            -0.066667   \n",
       "så meget for det upolitiske                                                   -0.200000   \n",
       "en syv seks en seksten fire hundrede og tre                                    0.000000   \n",
       "\n",
       "                                                    Noisy_original_hyper-parameters_both_augs.pth  \\\n",
       "Reference                                                                                           \n",
       "videre skal politiet have yderligere beføjelser...                                      -0.133333   \n",
       "hertil kommer et mindre antal institutioner og ...                                       0.250000   \n",
       "det er uretfærdigt at sådanne kåringer bliver f...                                       0.133333   \n",
       "så meget for det upolitiske                                                             -0.600000   \n",
       "en syv seks en seksten fire hundrede og tre                                              0.000000   \n",
       "\n",
       "                                                    Noisy_original_hyper-parameters_only_room_reverb.pth  \\\n",
       "Reference                                                                                                  \n",
       "videre skal politiet have yderligere beføjelser...                                          -0.133333      \n",
       "hertil kommer et mindre antal institutioner og ...                                           0.250000      \n",
       "det er uretfærdigt at sådanne kåringer bliver f...                                          -0.066667      \n",
       "så meget for det upolitiske                                                                 -0.600000      \n",
       "en syv seks en seksten fire hundrede og tre                                                  0.000000      \n",
       "\n",
       "                                                    Noisy_original_hyper-parameters_only_spec_augment.pth  \\\n",
       "Reference                                                                                                   \n",
       "videre skal politiet have yderligere beføjelser...                                          -0.066667       \n",
       "hertil kommer et mindre antal institutioner og ...                                           0.000000       \n",
       "det er uretfærdigt at sådanne kåringer bliver f...                                           0.066667       \n",
       "så meget for det upolitiske                                                                 -0.200000       \n",
       "en syv seks en seksten fire hundrede og tre                                                  0.000000       \n",
       "\n",
       "                                                    DanSpeechPrimary.pth  \\\n",
       "Reference                                                                  \n",
       "videre skal politiet have yderligere beføjelser...              0.066667   \n",
       "hertil kommer et mindre antal institutioner og ...              0.125000   \n",
       "det er uretfærdigt at sådanne kåringer bliver f...              0.066667   \n",
       "så meget for det upolitiske                                    -0.600000   \n",
       "en syv seks en seksten fire hundrede og tre                     0.000000   \n",
       "\n",
       "                                                    clean_no_augs.pth  \\\n",
       "Reference                                                               \n",
       "videre skal politiet have yderligere beføjelser...                0.0   \n",
       "hertil kommer et mindre antal institutioner og ...                0.0   \n",
       "det er uretfærdigt at sådanne kåringer bliver f...                0.0   \n",
       "så meget for det upolitiske                                      -0.6   \n",
       "en syv seks en seksten fire hundrede og tre                       0.0   \n",
       "\n",
       "                                                    clean_all_augs.pth  \\\n",
       "Reference                                                                \n",
       "videre skal politiet have yderligere beføjelser...                 0.0   \n",
       "hertil kommer et mindre antal institutioner og ...                 0.0   \n",
       "det er uretfærdigt at sådanne kåringer bliver f...                 0.0   \n",
       "så meget for det upolitiske                                        0.0   \n",
       "en syv seks en seksten fire hundrede og tre                        0.0   \n",
       "\n",
       "                                                    noisy_no_augs.pth  \\\n",
       "Reference                                                               \n",
       "videre skal politiet have yderligere beføjelser...           0.000000   \n",
       "hertil kommer et mindre antal institutioner og ...           0.250000   \n",
       "det er uretfærdigt at sådanne kåringer bliver f...          -0.066667   \n",
       "så meget for det upolitiske                                 -0.600000   \n",
       "en syv seks en seksten fire hundrede og tre                  0.000000   \n",
       "\n",
       "                                                    noisy_all_augs.pth  \n",
       "Reference                                                               \n",
       "videre skal politiet have yderligere beføjelser...           -0.066667  \n",
       "hertil kommer et mindre antal institutioner og ...            0.375000  \n",
       "det er uretfærdigt at sådanne kåringer bliver f...           -0.066667  \n",
       "så meget for det upolitiske                                   0.200000  \n",
       "en syv seks en seksten fire hundrede og tre                   0.000000  "
      ]
     },
     "execution_count": 28,
     "metadata": {},
     "output_type": "execute_result"
    }
   ],
   "source": [
    "joined_df = clean_ref_df_final.join(clean_ref_df_base,on=\"Reference\")\n",
    "\n",
    "\n",
    "clean_dif_df = (joined_df.T - joined_df[\"clean_all_augs.pth\"]).T\n",
    "\n",
    "clean_dif_df.sample(5)"
   ]
  },
  {
   "cell_type": "code",
   "execution_count": 31,
   "metadata": {},
   "outputs": [
    {
     "data": {
      "text/plain": [
       "(array([ 2.,  8., 11., 17.,  6.,  1.,  0.,  0.,  1.,  2.]),\n",
       " array([-0.3125    , -0.22410714, -0.13571429, -0.04732143,  0.04107143,\n",
       "         0.12946429,  0.21785714,  0.30625   ,  0.39464286,  0.48303571,\n",
       "         0.57142857]),\n",
       " <a list of 10 Patch objects>)"
      ]
     },
     "execution_count": 31,
     "metadata": {},
     "output_type": "execute_result"
    },
    {
     "data": {
      "image/png": "[encoded data removed]",
      "text/plain": [
       "<Figure size 432x288 with 1 Axes>"
      ]
     },
     "metadata": {
      "needs_background": "light"
     },
     "output_type": "display_data"
    }
   ],
   "source": [
    "import matplotlib.pyplot as plt\n",
    "\n",
    "plt.hist(clean_dif_df[\"Clean_original_hyper-parameters.pth\"])"
   ]
  },
  {
   "cell_type": "markdown",
   "metadata": {},
   "source": [
    "# Paired confidence with DanSpeech aug policy interval with alpha = 0.05"
   ]
  },
  {
   "cell_type": "code",
   "execution_count": 32,
   "metadata": {},
   "outputs": [],
   "source": [
    "m_clean = clean_dif_df.mean()\n",
    "s_clean = clean_dif_df.std()\n",
    "n_clean = len(clean_dif_df)"
   ]
  },
  {
   "cell_type": "code",
   "execution_count": 16,
   "metadata": {
    "scrolled": false
   },
   "outputs": [
    {
     "data": {
      "text/plain": [
       "0.1672505153835653"
      ]
     },
     "execution_count": 16,
     "metadata": {},
     "output_type": "execute_result"
    }
   ],
   "source": [
    "s_clean"
   ]
  },
  {
   "cell_type": "code",
   "execution_count": 36,
   "metadata": {},
   "outputs": [
    {
     "name": "stdout",
     "output_type": "stream",
     "text": [
      "Clean_original_hyper-parameters.pth: (-6.760324837266676) - (2.9525726056014014)\n",
      "Noisy_original_hyper-parameters_both_augs.pth: (-4.774512005988359) - (5.149572985668904)\n",
      "Noisy_original_hyper-parameters_only_room_reverb.pth: (-7.979522270706211) - (1.952008369551006)\n",
      "Noisy_original_hyper-parameters_only_spec_augment.pth: (-4.6408339038066755) - (3.421208873040342)\n"
     ]
    },
    {
     "data": {
      "text/plain": [
       "[None, None, None, None]"
      ]
     },
     "execution_count": 36,
     "metadata": {},
     "output_type": "execute_result"
    }
   ],
   "source": [
    "models = [\"Clean_original_hyper-parameters.pth\",\n",
    "          \"Noisy_original_hyper-parameters_both_augs.pth\",\n",
    "          \"Noisy_original_hyper-parameters_only_room_reverb.pth\",\n",
    "          \"Noisy_original_hyper-parameters_only_spec_augment.pth\"]\n",
    "\n",
    "from scipy.stats import  t\n",
    "confidence=0.05\n",
    "\n",
    "h = t.ppf(1-(confidence/2), n_clean - 1) * (s_clean/(np.sqrt(n_clean)))\n",
    "\n",
    "start = m_clean - h\n",
    "end = m_clean + h\n",
    "\n",
    "start *= 100\n",
    "end *= 100\n",
    "\n",
    "CIs_forwards = list(zip(models,start,end))\n",
    "\n",
    "[print(f'{a}: ({b}) - ({c})') for a,b,c in CIs_forwards]"
   ]
  },
  {
   "cell_type": "markdown",
   "metadata": {},
   "source": [
    "## Paired CI for noisy data"
   ]
  },
  {
   "cell_type": "code",
   "execution_count": 18,
   "metadata": {},
   "outputs": [],
   "source": [
    "#Reference WER dataframe for final models\n",
    "models = df_final.model_ID.unique()\n",
    "\n",
    "for i,m in enumerate(models):\n",
    "    if i == 0:\n",
    "        temp = df_CI_noisy_final[df_CI_noisy_final.model_ID.isin([m])][[\"Reference\",\"WER\"]]\n",
    "        temp = temp.rename(columns={\"WER\":f'{m}'})\n",
    "        temp = temp.set_index(\"Reference\")\n",
    "        \n",
    "        noisy_ref_df_final = temp.copy()\n",
    "        \n",
    "    else:\n",
    "        temp = df_CI_noisy_final[df_CI_noisy_final.model_ID.isin([m])][[\"Reference\",\"WER\"]]\n",
    "        temp = temp.rename(columns={\"WER\":f'{m}'}) \n",
    "        temp = temp.set_index(\"Reference\")\n",
    "        \n",
    "        noisy_ref_df_final = noisy_ref_df_final.join(temp,on=[\"Reference\"])"
   ]
  },
  {
   "cell_type": "code",
   "execution_count": 19,
   "metadata": {},
   "outputs": [],
   "source": [
    "#Reference WER dataframe for baseline scores\n",
    "models = df_base.model_ID.unique()\n",
    "\n",
    "for i,m in enumerate(models):\n",
    "    if i == 0:\n",
    "        temp = df_CI_noisy_base[df_CI_noisy_base.model_ID.isin([m])][[\"Reference\",\"WER\"]]\n",
    "        temp = temp.rename(columns={\"WER\":f'{m}'})\n",
    "        temp = temp.set_index(\"Reference\")\n",
    "        \n",
    "        noisy_ref_df_base = temp.copy()\n",
    "        \n",
    "    else:\n",
    "        temp = df_CI_noisy_base[df_CI_noisy_base.model_ID.isin([m])][[\"Reference\",\"WER\"]]\n",
    "        temp = temp.rename(columns={\"WER\":f'{m}'}) \n",
    "        temp = temp.set_index(\"Reference\")\n",
    "        \n",
    "        noisy_ref_df_base = noisy_ref_df_base.join(temp,on=[\"Reference\"])"
   ]
  },
  {
   "cell_type": "code",
   "execution_count": 37,
   "metadata": {},
   "outputs": [
    {
     "data": {
      "text/html": [
       "<div>\n",
       "<style scoped>\n",
       "    .dataframe tbody tr th:only-of-type {\n",
       "        vertical-align: middle;\n",
       "    }\n",
       "\n",
       "    .dataframe tbody tr th {\n",
       "        vertical-align: top;\n",
       "    }\n",
       "\n",
       "    .dataframe thead th {\n",
       "        text-align: right;\n",
       "    }\n",
       "</style>\n",
       "<table border=\"1\" class=\"dataframe\">\n",
       "  <thead>\n",
       "    <tr style=\"text-align: right;\">\n",
       "      <th></th>\n",
       "      <th>Clean_original_hyper-parameters.pth</th>\n",
       "      <th>Noisy_original_hyper-parameters_both_augs.pth</th>\n",
       "      <th>Noisy_original_hyper-parameters_only_room_reverb.pth</th>\n",
       "      <th>Noisy_original_hyper-parameters_only_spec_augment.pth</th>\n",
       "      <th>DanSpeechPrimary.pth</th>\n",
       "      <th>clean_no_augs.pth</th>\n",
       "      <th>clean_all_augs.pth</th>\n",
       "      <th>noisy_no_augs.pth</th>\n",
       "      <th>noisy_all_augs.pth</th>\n",
       "    </tr>\n",
       "    <tr>\n",
       "      <th>Reference</th>\n",
       "      <th></th>\n",
       "      <th></th>\n",
       "      <th></th>\n",
       "      <th></th>\n",
       "      <th></th>\n",
       "      <th></th>\n",
       "      <th></th>\n",
       "      <th></th>\n",
       "      <th></th>\n",
       "    </tr>\n",
       "  </thead>\n",
       "  <tbody>\n",
       "    <tr>\n",
       "      <th>den nye lov gjorde det nemmere at gennemskue hvad de har krav på</th>\n",
       "      <td>0.000000</td>\n",
       "      <td>0.076923</td>\n",
       "      <td>0.000000</td>\n",
       "      <td>0.000000</td>\n",
       "      <td>0.000000</td>\n",
       "      <td>0.000000</td>\n",
       "      <td>0.000000</td>\n",
       "      <td>0.000000</td>\n",
       "      <td>0.0</td>\n",
       "    </tr>\n",
       "    <tr>\n",
       "      <th>i den anden helikopter befandt sig to sårede journalister</th>\n",
       "      <td>0.000000</td>\n",
       "      <td>0.000000</td>\n",
       "      <td>0.111111</td>\n",
       "      <td>0.222222</td>\n",
       "      <td>0.000000</td>\n",
       "      <td>0.000000</td>\n",
       "      <td>0.111111</td>\n",
       "      <td>0.222222</td>\n",
       "      <td>0.0</td>\n",
       "    </tr>\n",
       "    <tr>\n",
       "      <th>undersøgelsen viser at børnene lytter mest til deres forældre når de skal finde ud af hvad de skal efter folkeskolen</th>\n",
       "      <td>0.050000</td>\n",
       "      <td>0.000000</td>\n",
       "      <td>-0.100000</td>\n",
       "      <td>0.100000</td>\n",
       "      <td>0.200000</td>\n",
       "      <td>0.150000</td>\n",
       "      <td>0.100000</td>\n",
       "      <td>0.050000</td>\n",
       "      <td>0.0</td>\n",
       "    </tr>\n",
       "    <tr>\n",
       "      <th>der er stadig et godt stykke vej at gå</th>\n",
       "      <td>0.000000</td>\n",
       "      <td>0.000000</td>\n",
       "      <td>0.000000</td>\n",
       "      <td>0.000000</td>\n",
       "      <td>0.333333</td>\n",
       "      <td>0.000000</td>\n",
       "      <td>0.111111</td>\n",
       "      <td>0.111111</td>\n",
       "      <td>0.0</td>\n",
       "    </tr>\n",
       "    <tr>\n",
       "      <th>kriminaliteten er da også dalet med over halvtreds procent de sidste fem år</th>\n",
       "      <td>0.615385</td>\n",
       "      <td>0.307692</td>\n",
       "      <td>0.153846</td>\n",
       "      <td>0.153846</td>\n",
       "      <td>0.692308</td>\n",
       "      <td>0.538462</td>\n",
       "      <td>0.307692</td>\n",
       "      <td>0.076923</td>\n",
       "      <td>0.0</td>\n",
       "    </tr>\n",
       "  </tbody>\n",
       "</table>\n",
       "</div>"
      ],
      "text/plain": [
       "                                                    Clean_original_hyper-parameters.pth  \\\n",
       "Reference                                                                                 \n",
       "den nye lov gjorde det nemmere at gennemskue hv...                             0.000000   \n",
       "i den anden helikopter befandt sig to sårede jo...                             0.000000   \n",
       "undersøgelsen viser at børnene lytter mest til ...                             0.050000   \n",
       "der er stadig et godt stykke vej at gå                                         0.000000   \n",
       "kriminaliteten er da også dalet med over halvtr...                             0.615385   \n",
       "\n",
       "                                                    Noisy_original_hyper-parameters_both_augs.pth  \\\n",
       "Reference                                                                                           \n",
       "den nye lov gjorde det nemmere at gennemskue hv...                                       0.076923   \n",
       "i den anden helikopter befandt sig to sårede jo...                                       0.000000   \n",
       "undersøgelsen viser at børnene lytter mest til ...                                       0.000000   \n",
       "der er stadig et godt stykke vej at gå                                                   0.000000   \n",
       "kriminaliteten er da også dalet med over halvtr...                                       0.307692   \n",
       "\n",
       "                                                    Noisy_original_hyper-parameters_only_room_reverb.pth  \\\n",
       "Reference                                                                                                  \n",
       "den nye lov gjorde det nemmere at gennemskue hv...                                           0.000000      \n",
       "i den anden helikopter befandt sig to sårede jo...                                           0.111111      \n",
       "undersøgelsen viser at børnene lytter mest til ...                                          -0.100000      \n",
       "der er stadig et godt stykke vej at gå                                                       0.000000      \n",
       "kriminaliteten er da også dalet med over halvtr...                                           0.153846      \n",
       "\n",
       "                                                    Noisy_original_hyper-parameters_only_spec_augment.pth  \\\n",
       "Reference                                                                                                   \n",
       "den nye lov gjorde det nemmere at gennemskue hv...                                           0.000000       \n",
       "i den anden helikopter befandt sig to sårede jo...                                           0.222222       \n",
       "undersøgelsen viser at børnene lytter mest til ...                                           0.100000       \n",
       "der er stadig et godt stykke vej at gå                                                       0.000000       \n",
       "kriminaliteten er da også dalet med over halvtr...                                           0.153846       \n",
       "\n",
       "                                                    DanSpeechPrimary.pth  \\\n",
       "Reference                                                                  \n",
       "den nye lov gjorde det nemmere at gennemskue hv...              0.000000   \n",
       "i den anden helikopter befandt sig to sårede jo...              0.000000   \n",
       "undersøgelsen viser at børnene lytter mest til ...              0.200000   \n",
       "der er stadig et godt stykke vej at gå                          0.333333   \n",
       "kriminaliteten er da også dalet med over halvtr...              0.692308   \n",
       "\n",
       "                                                    clean_no_augs.pth  \\\n",
       "Reference                                                               \n",
       "den nye lov gjorde det nemmere at gennemskue hv...           0.000000   \n",
       "i den anden helikopter befandt sig to sårede jo...           0.000000   \n",
       "undersøgelsen viser at børnene lytter mest til ...           0.150000   \n",
       "der er stadig et godt stykke vej at gå                       0.000000   \n",
       "kriminaliteten er da også dalet med over halvtr...           0.538462   \n",
       "\n",
       "                                                    clean_all_augs.pth  \\\n",
       "Reference                                                                \n",
       "den nye lov gjorde det nemmere at gennemskue hv...            0.000000   \n",
       "i den anden helikopter befandt sig to sårede jo...            0.111111   \n",
       "undersøgelsen viser at børnene lytter mest til ...            0.100000   \n",
       "der er stadig et godt stykke vej at gå                        0.111111   \n",
       "kriminaliteten er da også dalet med over halvtr...            0.307692   \n",
       "\n",
       "                                                    noisy_no_augs.pth  \\\n",
       "Reference                                                               \n",
       "den nye lov gjorde det nemmere at gennemskue hv...           0.000000   \n",
       "i den anden helikopter befandt sig to sårede jo...           0.222222   \n",
       "undersøgelsen viser at børnene lytter mest til ...           0.050000   \n",
       "der er stadig et godt stykke vej at gå                       0.111111   \n",
       "kriminaliteten er da også dalet med over halvtr...           0.076923   \n",
       "\n",
       "                                                    noisy_all_augs.pth  \n",
       "Reference                                                               \n",
       "den nye lov gjorde det nemmere at gennemskue hv...                 0.0  \n",
       "i den anden helikopter befandt sig to sårede jo...                 0.0  \n",
       "undersøgelsen viser at børnene lytter mest til ...                 0.0  \n",
       "der er stadig et godt stykke vej at gå                             0.0  \n",
       "kriminaliteten er da også dalet med over halvtr...                 0.0  "
      ]
     },
     "execution_count": 37,
     "metadata": {},
     "output_type": "execute_result"
    }
   ],
   "source": [
    "joined_df = noisy_ref_df_final.join(noisy_ref_df_base,on=\"Reference\")\n",
    "\n",
    "\n",
    "noisy_dif_df = joined_df.subtract(\n",
    "                        joined_df[\"noisy_all_augs.pth\"],0)\n",
    "noisy_dif_df.sample(5)"
   ]
  },
  {
   "cell_type": "code",
   "execution_count": 38,
   "metadata": {},
   "outputs": [
    {
     "data": {
      "text/plain": [
       "(array([ 1.,  0.,  0.,  3.,  5., 14., 11., 17.,  7.,  1.]),\n",
       " array([-0.8       , -0.68666667, -0.57333333, -0.46      , -0.34666667,\n",
       "        -0.23333333, -0.12      , -0.00666667,  0.10666667,  0.22      ,\n",
       "         0.33333333]),\n",
       " <a list of 10 Patch objects>)"
      ]
     },
     "execution_count": 38,
     "metadata": {},
     "output_type": "execute_result"
    },
    {
     "data": {
      "image/png": "[encoded data removed]",
      "text/plain": [
       "<Figure size 432x288 with 1 Axes>"
      ]
     },
     "metadata": {
      "needs_background": "light"
     },
     "output_type": "display_data"
    }
   ],
   "source": [
    "import matplotlib.pyplot as plt\n",
    "\n",
    "plt.hist(noisy_dif_df[\"Noisy_original_hyper-parameters_only_room_reverb.pth\"])"
   ]
  },
  {
   "cell_type": "code",
   "execution_count": 39,
   "metadata": {},
   "outputs": [],
   "source": [
    "m_noisy = noisy_dif_df.mean()\n",
    "s_noisy = noisy_dif_df.std()\n",
    "n_noisy = len(noisy_dif_df)"
   ]
  },
  {
   "cell_type": "code",
   "execution_count": 40,
   "metadata": {},
   "outputs": [
    {
     "data": {
      "text/plain": [
       "Clean_original_hyper-parameters.pth                      0.191435\n",
       "Noisy_original_hyper-parameters_both_augs.pth            0.175391\n",
       "Noisy_original_hyper-parameters_only_room_reverb.pth     0.184631\n",
       "Noisy_original_hyper-parameters_only_spec_augment.pth    0.153162\n",
       "DanSpeechPrimary.pth                                     0.226431\n",
       "clean_no_augs.pth                                        0.206242\n",
       "clean_all_augs.pth                                       0.217051\n",
       "noisy_no_augs.pth                                        0.194823\n",
       "noisy_all_augs.pth                                       0.000000\n",
       "dtype: float64"
      ]
     },
     "execution_count": 40,
     "metadata": {},
     "output_type": "execute_result"
    }
   ],
   "source": [
    "s_noisy"
   ]
  },
  {
   "cell_type": "code",
   "execution_count": 41,
   "metadata": {},
   "outputs": [
    {
     "name": "stdout",
     "output_type": "stream",
     "text": [
      "Clean_original_hyper-parameters.pth: (-6.838740986498548) - (3.1389132056483873)\n",
      "Noisy_original_hyper-parameters_both_augs.pth: (-10.748899823986413) - (-1.6074966808606241)\n",
      "Noisy_original_hyper-parameters_only_room_reverb.pth: (-13.575069895699048) - (-3.952035863866083)\n",
      "Noisy_original_hyper-parameters_only_spec_augment.pth: (-8.792639352590397) - (-0.8097907236790276)\n"
     ]
    },
    {
     "data": {
      "text/plain": [
       "[None, None, None, None]"
      ]
     },
     "execution_count": 41,
     "metadata": {},
     "output_type": "execute_result"
    }
   ],
   "source": [
    "models = [\"Clean_original_hyper-parameters.pth\",\n",
    "          \"Noisy_original_hyper-parameters_both_augs.pth\",\n",
    "          \"Noisy_original_hyper-parameters_only_room_reverb.pth\",\n",
    "          \"Noisy_original_hyper-parameters_only_spec_augment.pth\"]\n",
    "\n",
    "from scipy.stats import  t\n",
    "confidence=0.05\n",
    "\n",
    "h = t.ppf(1-(confidence/2), n_noisy - 1) * (s_noisy/(np.sqrt(n_noisy)))\n",
    "\n",
    "start = m_noisy - h\n",
    "end = m_noisy + h\n",
    "\n",
    "start *= 100\n",
    "end *= 100\n",
    "\n",
    "CIs_forwards = list(zip(models,start,end))\n",
    "\n",
    "[print(f'{a}: ({b}) - ({c})') for a,b,c in CIs_forwards]"
   ]
  },
  {
   "cell_type": "code",
   "execution_count": null,
   "metadata": {},
   "outputs": [],
   "source": []
  }
 ],
 "metadata": {
  "kernelspec": {
   "display_name": "Python 3",
   "language": "python",
   "name": "python3"
  },
  "language_info": {
   "codemirror_mode": {
    "name": "ipython",
    "version": 3
   },
   "file_extension": ".py",
   "mimetype": "text/x-python",
   "name": "python",
   "nbconvert_exporter": "python",
   "pygments_lexer": "ipython3",
   "version": "3.8.1"
  }
 },
 "nbformat": 4,
 "nbformat_minor": 4
}
