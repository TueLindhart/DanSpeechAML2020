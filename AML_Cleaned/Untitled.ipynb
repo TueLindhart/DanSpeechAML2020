{
 "cells": [
  {
   "cell_type": "code",
   "execution_count": 5,
   "metadata": {},
   "outputs": [
    {
     "name": "stdout",
     "output_type": "stream",
     "text": [
      "Clean_optimised_hyper-parameters.pth\n",
      "noisy_all_augs.pth\n",
      "Noisy_optimised_hyper-parameters_both_augs.pth\n",
      "Noisy_optimised_hyper-parameters_only_room_reverb.pth\n",
      "Noisy_original_hyper-parameters_only_room_reverb.pth\n",
      ".ipynb_checkpoints\n",
      "clean_all_augs.pth\n",
      "noisy_no_augs.pth\n",
      "clean_no_augs.pth\n",
      "Clean_original_hyper-parameters.pth\n",
      "Noisy_optimised_hyper-parameters_only_spec_augment.pth\n",
      "Noisy_original_hyper-parameters.pth\n"
     ]
    }
   ],
   "source": [
    "import os\n",
    "for model in os.listdir(\"/home/user/DanSpeech-AdvancedMachineLearning/AML Cleaned/model_save_dir\"):\n",
    "    print(model)"
   ]
  },
  {
   "cell_type": "code",
   "execution_count": 4,
   "metadata": {},
   "outputs": [],
   "source": [
    "models = [\"Clean_optimised_hyper-parameters.pth\",\n",
    "          \"Noisy_optimised_hyper-parameters_only_room_reverb.pth\",\n",
    "          \"Noisy_original_hyper-parameters_only_room_reverb.pth\",\n",
    "          \"Clean_original_hyper-parameters.pth\",\n",
    "          \"Noisy_optimised_hyper-parameters_both_augs.pth\",\n",
    "          \"Noisy_original_hyper-parameters_both_augs.pth\"]"
   ]
  },
  {
   "cell_type": "code",
   "execution_count": null,
   "metadata": {},
   "outputs": [],
   "source": []
  }
 ],
 "metadata": {
  "kernelspec": {
   "display_name": "Python 3",
   "language": "python",
   "name": "python3"
  },
  "language_info": {
   "codemirror_mode": {
    "name": "ipython",
    "version": 3
   },
   "file_extension": ".py",
   "mimetype": "text/x-python",
   "name": "python",
   "nbconvert_exporter": "python",
   "pygments_lexer": "ipython3",
   "version": "3.8.1"
  }
 },
 "nbformat": 4,
 "nbformat_minor": 4
}
